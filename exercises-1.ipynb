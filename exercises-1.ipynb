{
 "cells": [
  {
   "cell_type": "markdown",
   "metadata": {},
   "source": [
    "#### Exercise 1:\n",
    "\n",
    "Write a function that receives a list as parameter and return how many elements it has; if it doesn't have any element return an error.\n"
   ]
  },
  {
   "cell_type": "markdown",
   "metadata": {},
   "source": [
    "##### Solution 1:"
   ]
  },
  {
   "cell_type": "code",
   "execution_count": 1,
   "metadata": {},
   "outputs": [],
   "source": [
    "def length_list(my_list):\n",
    "    \"\"\"Finding List elements count\n",
    "\n",
    "    :param my_list: list parameter\n",
    "    :return: length of list\n",
    "\n",
    "    \"\"\"\n",
    "    length = len(my_list)\n",
    "    if(length==0):\n",
    "        raise Exception(\"Your List hasn't any elements\")\n",
    "\n",
    "    return length # f\"List have {length} elements\"\n",
    "\n",
    "\n"
   ]
  },
  {
   "cell_type": "markdown",
   "metadata": {},
   "source": [
    "##### Check func"
   ]
  },
  {
   "cell_type": "code",
   "execution_count": 2,
   "metadata": {},
   "outputs": [
    {
     "data": {
      "text/plain": [
       "3"
      ]
     },
     "execution_count": 2,
     "metadata": {},
     "output_type": "execute_result"
    }
   ],
   "source": [
    "thislist  = [\"apple\", \"banana\", \"cherry\"]\n",
    "length_list(thislist)\n"
   ]
  },
  {
   "cell_type": "code",
   "execution_count": null,
   "metadata": {},
   "outputs": [],
   "source": [
    "thislist.clear()\n",
    "length_list(thislist)"
   ]
  },
  {
   "cell_type": "markdown",
   "metadata": {},
   "source": [
    "#### Exercise 2:\n",
    "\n",
    "Write a function that receives a string as parameter and return the number of each character in it."
   ]
  },
  {
   "cell_type": "markdown",
   "metadata": {},
   "source": [
    "##### Solution 2:"
   ]
  },
  {
   "cell_type": "code",
   "execution_count": 3,
   "metadata": {},
   "outputs": [],
   "source": [
    "from collections import Counter"
   ]
  },
  {
   "cell_type": "code",
   "execution_count": 6,
   "metadata": {},
   "outputs": [],
   "source": [
    "def repeated_character(my_string):\n",
    "    \"\"\"Finding Repeated Character\n",
    "\n",
    "    :param my_string: string \n",
    "    :return:\n",
    "    \"\"\"\n",
    "    print(\"The original string : \" + str(my_string))\n",
    "    chr_list = ''.join(sorted(my_string.lower()))\n",
    "    print(\"String after sorting : \" + str(chr_list))\n",
    "\n",
    "    my_count = 1\n",
    "\n",
    "    for i in range(len(chr_list)-1):\n",
    "        \n",
    "        if chr_list[i]==chr_list[i+1]:\n",
    "            my_count += 1\n",
    "        else:\n",
    "            print(chr_list[i], my_count)\n",
    "            my_count = 1\n",
    "    \n",
    "    print(chr_list[-1], my_count)\n",
    "\n",
    " #second method result = collections.Counter(my_string)\n",
    "\n",
    "    return"
   ]
  },
  {
   "cell_type": "code",
   "execution_count": 7,
   "metadata": {},
   "outputs": [
    {
     "name": "stdout",
     "output_type": "stream",
     "text": [
      "The original string : Ankara başkenttir\n",
      "String after sorting :  aaaabeikknnrrttş\n",
      "  1\n",
      "a 4\n",
      "b 1\n",
      "e 1\n",
      "i 1\n",
      "k 2\n",
      "n 2\n",
      "r 2\n",
      "t 2\n",
      "ş 1\n"
     ]
    }
   ],
   "source": [
    "test_string=\"Ankara başkenttir\"\n",
    "\n",
    "repeated_character(test_string)"
   ]
  },
  {
   "cell_type": "markdown",
   "metadata": {},
   "source": [
    "#### Second Solution"
   ]
  },
  {
   "cell_type": "code",
   "execution_count": 4,
   "metadata": {},
   "outputs": [],
   "source": [
    "def string_char(my_string):\n",
    "    \"\"\"\n",
    "    frequency list\n",
    "    \"\"\"\n",
    "    result = Counter(my_string).most_common(len(my_string))\n",
    "    return result"
   ]
  },
  {
   "cell_type": "code",
   "execution_count": 5,
   "metadata": {},
   "outputs": [
    {
     "data": {
      "text/plain": [
       "[('a', 3),\n",
       " ('n', 2),\n",
       " ('k', 2),\n",
       " ('r', 2),\n",
       " ('t', 2),\n",
       " ('A', 1),\n",
       " (' ', 1),\n",
       " ('b', 1),\n",
       " ('ş', 1),\n",
       " ('e', 1),\n",
       " ('i', 1)]"
      ]
     },
     "execution_count": 5,
     "metadata": {},
     "output_type": "execute_result"
    }
   ],
   "source": [
    "test_string=\"Ankara başkenttir\"\n",
    "string_char(test_string)"
   ]
  }
 ],
 "metadata": {
  "kernelspec": {
   "display_name": "Python 3",
   "language": "python",
   "name": "python3"
  },
  "language_info": {
   "codemirror_mode": {
    "name": "ipython",
    "version": 3
   },
   "file_extension": ".py",
   "mimetype": "text/x-python",
   "name": "python",
   "nbconvert_exporter": "python",
   "pygments_lexer": "ipython3",
   "version": "3.10.0rc2"
  }
 },
 "nbformat": 4,
 "nbformat_minor": 2
}
