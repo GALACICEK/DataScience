{
 "cells": [
  {
   "cell_type": "markdown",
   "metadata": {},
   "source": [
    "#### Exercise 1:\n",
    "\n",
    "Write a function that receives a list as parameter and return how many elements it has; if it doesn't have any element return an error.\n"
   ]
  },
  {
   "cell_type": "markdown",
   "metadata": {},
   "source": [
    "##### Solution 1:"
   ]
  },
  {
   "cell_type": "code",
   "execution_count": 1,
   "metadata": {},
   "outputs": [],
   "source": [
    "def length_list(my_list):\n",
    "    \"\"\"Finding List elements count\n",
    "\n",
    "    :param my_list: list parameter\n",
    "    :return: length of list\n",
    "\n",
    "    \"\"\"\n",
    "    length = len(my_list)\n",
    "    if(length==0):\n",
    "        raise Exception(\"Your List hasn't any elements\")\n",
    "\n",
    "    return length\n",
    "\n",
    "\n"
   ]
  },
  {
   "cell_type": "markdown",
   "metadata": {},
   "source": [
    "##### Check func"
   ]
  },
  {
   "cell_type": "code",
   "execution_count": 2,
   "metadata": {},
   "outputs": [
    {
     "data": {
      "text/plain": [
       "3"
      ]
     },
     "execution_count": 2,
     "metadata": {},
     "output_type": "execute_result"
    }
   ],
   "source": [
    "thislist  = [\"apple\", \"banana\", \"cherry\"]\n",
    "length_list(thislist)\n"
   ]
  },
  {
   "cell_type": "code",
   "execution_count": 3,
   "metadata": {},
   "outputs": [
    {
     "ename": "Exception",
     "evalue": "Your List hasn't any elements",
     "output_type": "error",
     "traceback": [
      "\u001b[1;31m---------------------------------------------------------------------------\u001b[0m",
      "\u001b[1;31mException\u001b[0m                                 Traceback (most recent call last)",
      "\u001b[1;32md:\\WorkSpace\\DataScience\\exercise-1.ipynb Cell 6\u001b[0m line \u001b[0;36m2\n\u001b[0;32m      <a href='vscode-notebook-cell:/d%3A/WorkSpace/DataScience/exercise-1.ipynb#W5sZmlsZQ%3D%3D?line=0'>1</a>\u001b[0m thislist\u001b[39m.\u001b[39mclear()\n\u001b[1;32m----> <a href='vscode-notebook-cell:/d%3A/WorkSpace/DataScience/exercise-1.ipynb#W5sZmlsZQ%3D%3D?line=1'>2</a>\u001b[0m length_list(thislist)\n",
      "\u001b[1;32md:\\WorkSpace\\DataScience\\exercise-1.ipynb Cell 6\u001b[0m line \u001b[0;36m1\n\u001b[0;32m      <a href='vscode-notebook-cell:/d%3A/WorkSpace/DataScience/exercise-1.ipynb#W5sZmlsZQ%3D%3D?line=7'>8</a>\u001b[0m length \u001b[39m=\u001b[39m \u001b[39mlen\u001b[39m(my_list)\n\u001b[0;32m      <a href='vscode-notebook-cell:/d%3A/WorkSpace/DataScience/exercise-1.ipynb#W5sZmlsZQ%3D%3D?line=8'>9</a>\u001b[0m \u001b[39mif\u001b[39;00m(length\u001b[39m==\u001b[39m\u001b[39m0\u001b[39m):\n\u001b[1;32m---> <a href='vscode-notebook-cell:/d%3A/WorkSpace/DataScience/exercise-1.ipynb#W5sZmlsZQ%3D%3D?line=9'>10</a>\u001b[0m     \u001b[39mraise\u001b[39;00m \u001b[39mException\u001b[39;00m(\u001b[39m\"\u001b[39m\u001b[39mYour List hasn\u001b[39m\u001b[39m'\u001b[39m\u001b[39mt any elements\u001b[39m\u001b[39m\"\u001b[39m)\n\u001b[0;32m     <a href='vscode-notebook-cell:/d%3A/WorkSpace/DataScience/exercise-1.ipynb#W5sZmlsZQ%3D%3D?line=11'>12</a>\u001b[0m \u001b[39mreturn\u001b[39;00m length\n",
      "\u001b[1;31mException\u001b[0m: Your List hasn't any elements"
     ]
    }
   ],
   "source": [
    "thislist.clear()\n",
    "length_list(thislist)"
   ]
  },
  {
   "cell_type": "markdown",
   "metadata": {},
   "source": [
    "#### Exercise 2:\n",
    "\n",
    "Write a function that receives a string as parameter and return the number of each character in it."
   ]
  },
  {
   "cell_type": "markdown",
   "metadata": {},
   "source": [
    "##### Solution 2:"
   ]
  },
  {
   "cell_type": "code",
   "execution_count": 4,
   "metadata": {},
   "outputs": [],
   "source": [
    "from collections import Counter"
   ]
  },
  {
   "cell_type": "code",
   "execution_count": 6,
   "metadata": {},
   "outputs": [],
   "source": [
    "def repeated_character(my_string):\n",
    "    \"\"\"Finding Repeated Character\n",
    "\n",
    "    :param my_string: string base number\n",
    "    :return: int - number raised to power of second number\n",
    "\n",
    "    \"\"\"\n",
    "    print(\"The original string : \" + str(my_string))\n",
    "    chr_list = ''.join(sorted(my_string.lower()))\n",
    "    print(\"String after sorting : \" + str(chr_list))\n",
    "\n",
    "    my_count = 1\n",
    "\n",
    "    for i in range(len(chr_list)-1):\n",
    "        \n",
    "        if chr_list[i]==chr_list[i+1]:\n",
    "            my_count+=1\n",
    "        else:\n",
    "            print(chr_list[i], my_count)\n",
    "            my_count=1\n",
    "    \n",
    "    print(chr_list[-1], my_count)\n",
    "\n",
    "\n",
    "    return"
   ]
  },
  {
   "cell_type": "code",
   "execution_count": 7,
   "metadata": {},
   "outputs": [
    {
     "name": "stdout",
     "output_type": "stream",
     "text": [
      "The original string : Ankara başkenttir\n",
      "String after sorting :  aaaabeikknnrrttş\n",
      "  1\n",
      "a 4\n",
      "b 1\n",
      "e 1\n",
      "i 1\n",
      "k 2\n",
      "n 2\n",
      "r 2\n",
      "t 2\n",
      "ş 1\n"
     ]
    }
   ],
   "source": [
    "test_string=\"Ankara başkenttir\"\n",
    "\n",
    "repeated_character(test_string)"
   ]
  }
 ],
 "metadata": {
  "kernelspec": {
   "display_name": "Python 3",
   "language": "python",
   "name": "python3"
  },
  "language_info": {
   "codemirror_mode": {
    "name": "ipython",
    "version": 3
   },
   "file_extension": ".py",
   "mimetype": "text/x-python",
   "name": "python",
   "nbconvert_exporter": "python",
   "pygments_lexer": "ipython3",
   "version": "3.10.0"
  }
 },
 "nbformat": 4,
 "nbformat_minor": 2
}
