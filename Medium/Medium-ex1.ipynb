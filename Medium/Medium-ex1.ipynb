{
 "cells": [
  {
   "cell_type": "code",
   "execution_count": 26,
   "metadata": {},
   "outputs": [
    {
     "name": "stdout",
     "output_type": "stream",
     "text": [
      "3 <class 'str'>\n"
     ]
    }
   ],
   "source": [
    "x = str(3) \n",
    "print(x, type(x))\n"
   ]
  },
  {
   "cell_type": "code",
   "execution_count": 27,
   "metadata": {},
   "outputs": [
    {
     "name": "stdout",
     "output_type": "stream",
     "text": [
      "3 <class 'int'>\n"
     ]
    }
   ],
   "source": [
    "y = int(3) \n",
    "print(y,type(y))"
   ]
  },
  {
   "cell_type": "code",
   "execution_count": 28,
   "metadata": {},
   "outputs": [
    {
     "name": "stdout",
     "output_type": "stream",
     "text": [
      "3.0 <class 'float'>\n"
     ]
    }
   ],
   "source": [
    "z = float(3)\n",
    "print(z, type(z))"
   ]
  },
  {
   "cell_type": "code",
   "execution_count": 30,
   "metadata": {},
   "outputs": [
    {
     "name": "stdout",
     "output_type": "stream",
     "text": [
      "3 <class 'int'>\n"
     ]
    }
   ],
   "source": [
    "k = 3\n",
    "print(k, type(k))"
   ]
  },
  {
   "cell_type": "code",
   "execution_count": 49,
   "metadata": {},
   "outputs": [
    {
     "name": "stdout",
     "output_type": "stream",
     "text": [
      "OUTPUTS\n",
      "\n",
      "<class 'str'>\n",
      "\n",
      "<class 'int'>\n",
      "\n",
      "<class 'float'>\n",
      "\n",
      "<class 'complex'>\n",
      "\n",
      "<class 'list'>\n",
      "\n",
      "<class 'tuple'>\n",
      "\n",
      "<class 'range'>\n",
      "\n",
      "<class 'dict'>\n",
      "\n",
      "<class 'set'>\n",
      "\n",
      "<class 'frozenset'>\n",
      "\n",
      "<class 'bool'>\n",
      "\n",
      "<class 'bytes'>\n",
      "\n",
      "<class 'bytearray'>\n",
      "\n",
      "<class 'memoryview'>\n",
      "\n",
      "<class 'NoneType'>\n",
      "\n"
     ]
    }
   ],
   "source": [
    "print(\"OUTPUTS\")\n",
    "print()\n",
    "x = \"Hello World\" \n",
    "print(type(x))\n",
    "print()\n",
    "x = 50\n",
    "print(type(x))\n",
    "print()\n",
    "x = 60.5\n",
    "print(type(x))\n",
    "print()\n",
    "x = 3j\n",
    "print(type(x))\n",
    "print()\n",
    "x = [\"İstanbul\", \"Ankara\", \"İzmir\"]\n",
    "print(type(x))\n",
    "print()\n",
    "x = (\"İstanbul\", \"Ankara\", \"İzmir\")\n",
    "print(type(x))\n",
    "print()\n",
    "x = range(10) \n",
    "print(type(x))\n",
    "print()\n",
    "x = {\"name\": \"Gizem\", \"age\": 24}\n",
    "print(type(x))\n",
    "print()\n",
    "x = {\"İstanbul\", \"Ankara\", \"İzmir\"}\n",
    "print(type(x))\n",
    "print()\n",
    "x = frozenset({\"İstanbul\", \"Ankara\", \"İzmir\"})\n",
    "print(type(x))\n",
    "print()\n",
    "x = True\n",
    "print(type(x))\n",
    "print()\n",
    "x = b\"Ankara\"\n",
    "print(type(x))\n",
    "print()\n",
    "x = bytearray(4)\n",
    "print(type(x))\n",
    "print()\n",
    "x = memoryview(bytes(6))\n",
    "print(type(x))\n",
    "print()\n",
    "x = None\n",
    "print(type(x))\n",
    "print()\n"
   ]
  },
  {
   "cell_type": "code",
   "execution_count": 55,
   "metadata": {},
   "outputs": [
    {
     "name": "stdout",
     "output_type": "stream",
     "text": [
      "Empty list gösterimi:  []\n",
      "\n",
      "\n",
      "['İstanbul', 'Ankara', 'İzmir']\n",
      "<class 'list'>\n",
      "[15, 'İstanbul', 'Ankara', 'İzmir', 4]\n",
      "\n",
      "\n",
      "['İstanbul', 'Ankara', 'İzmir', 'Antalya', 'Ankara', 'İstanbul']\n",
      "Listenin 2. elemanı: Ankara\n",
      "Antalya\n",
      "Listemin uzunluğu: 6\n",
      "\n",
      "\n",
      "0: İstanbul\n",
      "1: Ankara\n",
      "2: İzmir\n",
      "3: Antalya\n",
      "4: Ankara\n",
      "5: İstanbul\n"
     ]
    }
   ],
   "source": [
    "empty_list =[]\n",
    "print(\"Empty list gösterimi: \",empty_list)\n",
    "print(\"\\n\")\n",
    "\n",
    "my_list = [\"İstanbul\", \"Ankara\", \"İzmir\"]\n",
    "print(my_list)\n",
    "print(type(my_list))\n",
    "my_list.insert(0,15)   #ilk dğer index, ikincisi değer\n",
    "my_list.append(4) # listenin sonuna eklenecek değer\n",
    "print(my_list)\n",
    "print(\"\\n\")\n",
    "\n",
    "cities = [\"İstanbul\", \"Ankara\", \"İzmir\", \"Antalya\", \"Ankara\", \"İstanbul\"]\n",
    "print(cities)\n",
    "print(f\"Listenin 2. elemanı: {cities[1]}\") \n",
    "print(cities[-3]) # sondan 3. elemanına erişmiş oluyoruz\n",
    "print(f\"Listemin uzunluğu: {len(cities)}\")\n",
    "print(\"\\n\")\n",
    "\n",
    "for index,city in enumerate(cities):  \n",
    "    print(f\"{index}: {city}\")"
   ]
  },
  {
   "cell_type": "code",
   "execution_count": 60,
   "metadata": {},
   "outputs": [
    {
     "name": "stdout",
     "output_type": "stream",
     "text": [
      "Empty tuple gösterimi:  ()\n",
      "\n",
      "\n",
      "('İ', 's', 't', 'a', 'n', 'b', 'u', 'l')\n",
      "<class 'tuple'>\n",
      "('İstanbul',)\n",
      "<class 'tuple'>\n",
      "\n",
      "\n",
      "('İstanbul', 'Ankara', 'İzmir', 'Antalya', 'Ankara', 'İstanbul')\n",
      "Listenin 2. elemanı: Ankara\n",
      "Antalya\n",
      "\n",
      "\n",
      "0: İstanbul\n",
      "1: Ankara\n",
      "2: İzmir\n",
      "3: Antalya\n",
      "4: Ankara\n",
      "5: İstanbul\n"
     ]
    }
   ],
   "source": [
    "empty_tuple =tuple()\n",
    "print(\"Empty tuple gösterimi: \",empty_tuple)\n",
    "print(\"\\n\")\n",
    "\n",
    "my_tuple1 = tuple(\"İstanbul\")\n",
    "my_tuple2 = (\"İstanbul\",)\n",
    "print(my_tuple1)\n",
    "print(type(my_tuple1))\n",
    "print(my_tuple2)\n",
    "print(type(my_tuple2))\n",
    "print(\"\\n\")\n",
    "\n",
    "cities = tuple([\"İstanbul\", \"Ankara\", \"İzmir\", \"Antalya\", \"Ankara\", \"İstanbul\"])\n",
    "print(cities)\n",
    "print(f\"Listenin 2. elemanı: {cities[1]}\") \n",
    "print(cities[-3]) # sondan 3. elemanına erişmiş oluyoruz\n",
    "print(\"\\n\")\n",
    "\n",
    "for index,city in enumerate(cities):  \n",
    "    print(f\"{index}: {city}\")"
   ]
  },
  {
   "cell_type": "code",
   "execution_count": 75,
   "metadata": {},
   "outputs": [
    {
     "name": "stdout",
     "output_type": "stream",
     "text": [
      "Empty set gösterimi:  {}\n",
      "\n",
      "\n",
      "{'İstanbul', 'İzmir', 'Ankara'}\n",
      "<class 'set'>\n",
      "{'İstanbul', 'İzmir', 'Ankara'}\n",
      "<class 'set'>\n",
      "\n",
      "\n",
      "{'İstanbul', 'İzmir', 'Ankara', 'Antalya'}\n",
      "{'İstanbul', 'Bursa', 'Ankara', 'Antalya', 'İzmir'}\n",
      "{'İstanbul', 'Eskişehir', 'Trabzon', 'Bursa', 'Adana', 'İzmir'}\n",
      "{'İstanbul', 'Bursa', 'Ankara', 'Adana', 'Antalya', 'Eskişehir', 'Trabzon', 'İzmir'}\n",
      "Silinen eleman :  İstanbul\n",
      "\n",
      "\n",
      "0: Bursa\n",
      "1: Ankara\n",
      "2: Antalya\n",
      "3: Eskişehir\n",
      "4: Trabzon\n",
      "5: İzmir\n"
     ]
    }
   ],
   "source": [
    "empty_set ={}\n",
    "print(\"Empty set gösterimi: \",empty_set)\n",
    "print(\"\\n\")\n",
    "\n",
    "my_set1 = {\"İstanbul\", \"Ankara\", \"İzmir\"}\n",
    "my_set2 = set([\"İstanbul\", \"Ankara\", \"İzmir\"])\n",
    "print(my_set1)\n",
    "print(type(my_set1))\n",
    "print(my_set2)\n",
    "print(type(my_set2))\n",
    "print(\"\\n\")\n",
    "\n",
    "cities ={\"İstanbul\", \"Ankara\", \"İzmir\", \"Antalya\", \"Ankara\", \"İstanbul\"}\n",
    "print(cities)\n",
    "cities.add(\"Bursa\")\n",
    "print(cities)\n",
    "cities2={\"Eskişehir\", \"Bursa\", \"Adana\", \"İstanbul\", \"İzmir\", \"Trabzon\"}\n",
    "print(cities2)\n",
    "cities.update(cities2)\n",
    "print(cities)\n",
    "cities.remove(\"Adana\")\n",
    "last_cities = cities.pop()\n",
    "print(\"Silinen eleman : \",last_cities) # pop methodu rasgele bir elemanı siler\n",
    "#print(f\"Listenin 2. elemanı: {cities[1]}\")  # TypeError: 'set' object is not subscriptable hatası alırsınız.  \n",
    "print(\"\\n\")\n",
    "\n",
    "for index,city in enumerate(cities):  \n",
    "    print(f\"{index}: {city}\")"
   ]
  },
  {
   "cell_type": "code",
   "execution_count": 97,
   "metadata": {},
   "outputs": [
    {
     "name": "stdout",
     "output_type": "stream",
     "text": [
      "Empty Dictionary gösterimi:  {}\n",
      "\n",
      "\n",
      "{1: 'bir', 2: 'iki', 3: 'üç', 'dört': 4, 'liste': [1, 2, 3]}\n",
      "<class 'dict'>\n",
      "{1: 'bir', 2: 'iki', 3: 'üç', 'dört': 4, 'liste': [1, 2, 3]}\n",
      "<class 'dict'>\n",
      "\n",
      "\n",
      "{'Adı': {'İstanbul', 'Bursa', 'Ankara', 'Antalya', 'İzmir'}, 'Nüfus': {4425789, 15840900, 2619832, 3147818, 5747325}, 'Plaka': {16, 34, 35, 6, 7}, 'a': 1}\n",
      "{'Adı': {'İstanbul', 'Bursa', 'Ankara', 'Antalya', 'İzmir'}, 'Nüfus': {4425789, 15840900, 2619832, 3147818, 5747325}, 'Plaka': {16, 34, 35, 6, 7}, 'a': 1, 'b': (2, 3, 4)}\n",
      "Dictionary Adı elemanları: {'İstanbul', 'Bursa', 'Ankara', 'Antalya', 'İzmir'}\n",
      "Nüfus : {4425789, 15840900, 2619832, 3147818, 5747325}\n",
      "(2, 3, 4)\n",
      "{'Adı': {'İstanbul', 'Bursa', 'Ankara', 'Antalya', 'İzmir'}, 'Nüfus': {4425789, 15840900, 2619832, 3147818, 5747325}, 'Plaka': {16, 34, 35, 6, 7}, 'a': 1}\n",
      "\n",
      "\n",
      "0: Adı\n",
      "1: Nüfus\n",
      "2: Plaka\n",
      "3: a\n",
      "\n",
      "\n",
      "Adı ,  {'İstanbul', 'Bursa', 'Ankara', 'Antalya', 'İzmir'} dir.\n",
      "Nüfus ,  {4425789, 15840900, 2619832, 3147818, 5747325} dir.\n",
      "Plaka ,  {16, 34, 35, 6, 7} dir.\n",
      "a ,  1 dir.\n",
      "False\n",
      "True\n"
     ]
    }
   ],
   "source": [
    "empty_dic = {}\n",
    "print(\"Empty Dictionary gösterimi: \",empty_dic)\n",
    "print(\"\\n\")\n",
    "\n",
    "#dictionary (key,value)\n",
    "my_dic1 =  {1: \"bir\", 2: \"iki\", 3: \"üç\", \"dört\": 4, \"liste\": [1, 2, 3]}\n",
    "my_dic2 =  dict({1: \"bir\", 2: \"iki\", 3: \"üç\", \"dört\": 4, \"liste\": [1, 2, 3]})\n",
    "print(my_dic1)\n",
    "print(type(my_dic1))\n",
    "print(my_dic2)\n",
    "print(type(my_dic2))\n",
    "#my_dic2[5] # KeyError: 5 hatası alırız yanı böyle bir eleman yoktur\n",
    "print(\"\\n\")\n",
    "\n",
    "\n",
    "cities_name = {\"İstanbul\", \"Ankara\", \"İzmir\", \"Antalya\", \"Bursa\"}\n",
    "cities = {\n",
    "    \"Adı\": {\"İstanbul\", \"Ankara\", \"İzmir\", \"Antalya\", \"Bursa\"},\n",
    "    \"Nüfus\": {15840900,5747325,4425789,2619832,3147818},\n",
    "    \"Plaka\": {34,6,35,7,16},\n",
    "    \"a\" : 1\n",
    "}\n",
    "print(cities)\n",
    "cities[\"b\"]= 2,3,4\n",
    "print(cities)\n",
    "print(f\"Dictionary Adı elemanları: {cities['Adı']}\")\n",
    "print(\"Nüfus :\", cities.get('Nüfus'))\n",
    "print(cities.pop('b')) # b keyindeki valuelerı sildi\n",
    "print(cities)\n",
    "print(\"\\n\")\n",
    "\n",
    "for index,city in enumerate(cities):  # sadece keyleri alır\n",
    "    print(f\"{index}: {city}\")\n",
    "\n",
    "print(\"\\n\")\n",
    "\n",
    "for my_key,my_value in cities.items():\n",
    "    print(f\"{my_key} ,  {my_value} dir.\")\n",
    "\n",
    "# cities_name kümesi, cities sözlüğünün anahtar kümesini içeriyor mu?\n",
    "print(set(cities.keys()).issubset(cities_name))\n",
    "# cities_name kümesi, \"Adı\" altındaki küme ile aynı mı?\n",
    "print(cities_name == cities[\"Adı\"])"
   ]
  },
  {
   "cell_type": "code",
   "execution_count": 110,
   "metadata": {},
   "outputs": [
    {
     "name": "stdout",
     "output_type": "stream",
     "text": [
      "ant\n",
      "crow\n",
      "mosquito\n",
      "squirrel\n",
      "deer\n"
     ]
    }
   ],
   "source": [
    "def my_function(my_list):\n",
    "  \n",
    "  for value in my_list:\n",
    "    print(value)\n",
    "    \n",
    "  return None\n",
    "\n",
    "animals = [\"ant\", \"crow\", \"mosquito\",\"squirrel\", \"deer\"]\n",
    "\n",
    "my_function(animals)"
   ]
  },
  {
   "cell_type": "code",
   "execution_count": 111,
   "metadata": {},
   "outputs": [
    {
     "name": "stdout",
     "output_type": "stream",
     "text": [
      "3 :  Tek sayı\n",
      "450 :  Çift sayı\n"
     ]
    }
   ],
   "source": [
    "def my_function(my_number):\n",
    "  if (my_number % 2 == 0):\n",
    "    return \"Çift sayı\"\n",
    "  else:\n",
    "    return \"Tek sayı\"\n",
    "\n",
    "print(\"3 : \",my_function(3))\n",
    "print(\"450 : \",my_function(450))"
   ]
  },
  {
   "cell_type": "code",
   "execution_count": 115,
   "metadata": {},
   "outputs": [
    {
     "name": "stdout",
     "output_type": "stream",
     "text": [
      "123\n"
     ]
    }
   ],
   "source": [
    "def my_add(*args):\n",
    "    # args, bir tuple'dır ve fonksiyona geçilen pozisyonel argümanları içerir\n",
    "    total = 0\n",
    "    for number in args:\n",
    "        total += number\n",
    "    return total\n",
    "\n",
    "\n",
    "print(my_add(10, 20, 3, 40, 50))\n",
    "\n"
   ]
  },
  {
   "cell_type": "code",
   "execution_count": 123,
   "metadata": {},
   "outputs": [
    {
     "name": "stdout",
     "output_type": "stream",
     "text": [
      "ant black\n",
      "Animal: ant\n",
      "Color: black\n",
      "crow black\n",
      "Animal: crow\n",
      "Color: black\n",
      "mosquito green\n",
      "Animal: mosquito\n",
      "Color: green\n",
      "squirrel brown\n",
      "Animal: squirrel\n",
      "Color: brown\n",
      "deer brown-white\n",
      "Animal: deer\n",
      "Color: brown-white\n"
     ]
    }
   ],
   "source": [
    "def my_function(**kwargs):\n",
    "    # kwargs, bir sözlüktür ve fonksiyona geçilen anahtar kelime argümanlarını içerir\n",
    "    for key, value in kwargs.items():\n",
    "        print(f\"{key}: {value}\")\n",
    "\n",
    "animals = [\"ant\", \"crow\", \"mosquito\",\"squirrel\", \"deer\"] #key\n",
    "colors = [\"black\",\"black\", \"green\", \"brown\", \"brown-white\"] # value\n",
    "\n",
    "\n",
    "for index, animal in enumerate(animals):\n",
    "    color = colors[index]\n",
    "    print(animal,color)\n",
    "    my_function(Animal= animal, Color=color)\n",
    "\n",
    "\n"
   ]
  }
 ],
 "metadata": {
  "kernelspec": {
   "display_name": "Python 3",
   "language": "python",
   "name": "python3"
  },
  "language_info": {
   "codemirror_mode": {
    "name": "ipython",
    "version": 3
   },
   "file_extension": ".py",
   "mimetype": "text/x-python",
   "name": "python",
   "nbconvert_exporter": "python",
   "pygments_lexer": "ipython3",
   "version": "3.10.0"
  }
 },
 "nbformat": 4,
 "nbformat_minor": 2
}
