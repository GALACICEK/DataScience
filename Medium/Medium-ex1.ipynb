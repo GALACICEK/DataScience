{
 "cells": [
  {
   "cell_type": "code",
   "execution_count": 26,
   "metadata": {},
   "outputs": [
    {
     "name": "stdout",
     "output_type": "stream",
     "text": [
      "3 <class 'str'>\n"
     ]
    }
   ],
   "source": [
    "x = str(3) \n",
    "print(x, type(x))\n"
   ]
  },
  {
   "cell_type": "code",
   "execution_count": 27,
   "metadata": {},
   "outputs": [
    {
     "name": "stdout",
     "output_type": "stream",
     "text": [
      "3 <class 'int'>\n"
     ]
    }
   ],
   "source": [
    "y = int(3) \n",
    "print(y,type(y))"
   ]
  },
  {
   "cell_type": "code",
   "execution_count": 28,
   "metadata": {},
   "outputs": [
    {
     "name": "stdout",
     "output_type": "stream",
     "text": [
      "3.0 <class 'float'>\n"
     ]
    }
   ],
   "source": [
    "z = float(3)\n",
    "print(z, type(z))"
   ]
  },
  {
   "cell_type": "code",
   "execution_count": 30,
   "metadata": {},
   "outputs": [
    {
     "name": "stdout",
     "output_type": "stream",
     "text": [
      "3 <class 'int'>\n"
     ]
    }
   ],
   "source": [
    "k = 3\n",
    "print(k, type(k))"
   ]
  },
  {
   "cell_type": "code",
   "execution_count": 49,
   "metadata": {},
   "outputs": [
    {
     "name": "stdout",
     "output_type": "stream",
     "text": [
      "OUTPUTS\n",
      "\n",
      "<class 'str'>\n",
      "\n",
      "<class 'int'>\n",
      "\n",
      "<class 'float'>\n",
      "\n",
      "<class 'complex'>\n",
      "\n",
      "<class 'list'>\n",
      "\n",
      "<class 'tuple'>\n",
      "\n",
      "<class 'range'>\n",
      "\n",
      "<class 'dict'>\n",
      "\n",
      "<class 'set'>\n",
      "\n",
      "<class 'frozenset'>\n",
      "\n",
      "<class 'bool'>\n",
      "\n",
      "<class 'bytes'>\n",
      "\n",
      "<class 'bytearray'>\n",
      "\n",
      "<class 'memoryview'>\n",
      "\n",
      "<class 'NoneType'>\n",
      "\n"
     ]
    }
   ],
   "source": [
    "print(\"OUTPUTS\")\n",
    "print()\n",
    "x = \"Hello World\" \n",
    "print(type(x))\n",
    "print()\n",
    "x = 50\n",
    "print(type(x))\n",
    "print()\n",
    "x = 60.5\n",
    "print(type(x))\n",
    "print()\n",
    "x = 3j\n",
    "print(type(x))\n",
    "print()\n",
    "x = [\"İstanbul\", \"Ankara\", \"İzmir\"]\n",
    "print(type(x))\n",
    "print()\n",
    "x = (\"İstanbul\", \"Ankara\", \"İzmir\")\n",
    "print(type(x))\n",
    "print()\n",
    "x = range(10) \n",
    "print(type(x))\n",
    "print()\n",
    "x = {\"name\": \"Gizem\", \"age\": 24}\n",
    "print(type(x))\n",
    "print()\n",
    "x = {\"İstanbul\", \"Ankara\", \"İzmir\"}\n",
    "print(type(x))\n",
    "print()\n",
    "x = frozenset({\"İstanbul\", \"Ankara\", \"İzmir\"})\n",
    "print(type(x))\n",
    "print()\n",
    "x = True\n",
    "print(type(x))\n",
    "print()\n",
    "x = b\"Ankara\"\n",
    "print(type(x))\n",
    "print()\n",
    "x = bytearray(4)\n",
    "print(type(x))\n",
    "print()\n",
    "x = memoryview(bytes(6))\n",
    "print(type(x))\n",
    "print()\n",
    "x = None\n",
    "print(type(x))\n",
    "print()\n"
   ]
  },
  {
   "cell_type": "code",
   "execution_count": 55,
   "metadata": {},
   "outputs": [
    {
     "name": "stdout",
     "output_type": "stream",
     "text": [
      "Empty list gösterimi:  []\n",
      "\n",
      "\n",
      "['İstanbul', 'Ankara', 'İzmir']\n",
      "<class 'list'>\n",
      "[15, 'İstanbul', 'Ankara', 'İzmir', 4]\n",
      "\n",
      "\n",
      "['İstanbul', 'Ankara', 'İzmir', 'Antalya', 'Ankara', 'İstanbul']\n",
      "Listenin 2. elemanı: Ankara\n",
      "Antalya\n",
      "Listemin uzunluğu: 6\n",
      "\n",
      "\n",
      "0: İstanbul\n",
      "1: Ankara\n",
      "2: İzmir\n",
      "3: Antalya\n",
      "4: Ankara\n",
      "5: İstanbul\n"
     ]
    }
   ],
   "source": [
    "empty_list =[]\n",
    "print(\"Empty list gösterimi: \",empty_list)\n",
    "print(\"\\n\")\n",
    "\n",
    "my_list = [\"İstanbul\", \"Ankara\", \"İzmir\"]\n",
    "print(my_list)\n",
    "print(type(my_list))\n",
    "my_list.insert(0,15)   #ilk dğer index, ikincisi değer\n",
    "my_list.append(4) # listenin sonuna eklenecek değer\n",
    "print(my_list)\n",
    "print(\"\\n\")\n",
    "\n",
    "cities = [\"İstanbul\", \"Ankara\", \"İzmir\", \"Antalya\", \"Ankara\", \"İstanbul\"]\n",
    "print(cities)\n",
    "print(f\"Listenin 2. elemanı: {cities[1]}\") \n",
    "print(cities[-3]) # sondan 3. elemanına erişmiş oluyoruz\n",
    "print(f\"Listemin uzunluğu: {len(cities)}\")\n",
    "print(\"\\n\")\n",
    "\n",
    "for index,city in enumerate(cities):  \n",
    "    print(f\"{index}: {city}\")"
   ]
  },
  {
   "cell_type": "code",
   "execution_count": 60,
   "metadata": {},
   "outputs": [
    {
     "name": "stdout",
     "output_type": "stream",
     "text": [
      "Empty tuple gösterimi:  ()\n",
      "\n",
      "\n",
      "('İ', 's', 't', 'a', 'n', 'b', 'u', 'l')\n",
      "<class 'tuple'>\n",
      "('İstanbul',)\n",
      "<class 'tuple'>\n",
      "\n",
      "\n",
      "('İstanbul', 'Ankara', 'İzmir', 'Antalya', 'Ankara', 'İstanbul')\n",
      "Listenin 2. elemanı: Ankara\n",
      "Antalya\n",
      "\n",
      "\n",
      "0: İstanbul\n",
      "1: Ankara\n",
      "2: İzmir\n",
      "3: Antalya\n",
      "4: Ankara\n",
      "5: İstanbul\n"
     ]
    }
   ],
   "source": [
    "empty_tuple =tuple()\n",
    "print(\"Empty tuple gösterimi: \",empty_tuple)\n",
    "print(\"\\n\")\n",
    "\n",
    "my_tuple1 = tuple(\"İstanbul\")\n",
    "my_tuple2 = (\"İstanbul\",)\n",
    "print(my_tuple1)\n",
    "print(type(my_tuple1))\n",
    "print(my_tuple2)\n",
    "print(type(my_tuple2))\n",
    "print(\"\\n\")\n",
    "\n",
    "cities = tuple([\"İstanbul\", \"Ankara\", \"İzmir\", \"Antalya\", \"Ankara\", \"İstanbul\"])\n",
    "print(cities)\n",
    "print(f\"Listenin 2. elemanı: {cities[1]}\") \n",
    "print(cities[-3]) # sondan 3. elemanına erişmiş oluyoruz\n",
    "print(\"\\n\")\n",
    "\n",
    "for index,city in enumerate(cities):  \n",
    "    print(f\"{index}: {city}\")"
   ]
  },
  {
   "cell_type": "code",
   "execution_count": 75,
   "metadata": {},
   "outputs": [
    {
     "name": "stdout",
     "output_type": "stream",
     "text": [
      "Empty set gösterimi:  {}\n",
      "\n",
      "\n",
      "{'İstanbul', 'İzmir', 'Ankara'}\n",
      "<class 'set'>\n",
      "{'İstanbul', 'İzmir', 'Ankara'}\n",
      "<class 'set'>\n",
      "\n",
      "\n",
      "{'İstanbul', 'İzmir', 'Ankara', 'Antalya'}\n",
      "{'İstanbul', 'Bursa', 'Ankara', 'Antalya', 'İzmir'}\n",
      "{'İstanbul', 'Eskişehir', 'Trabzon', 'Bursa', 'Adana', 'İzmir'}\n",
      "{'İstanbul', 'Bursa', 'Ankara', 'Adana', 'Antalya', 'Eskişehir', 'Trabzon', 'İzmir'}\n",
      "Silinen eleman :  İstanbul\n",
      "\n",
      "\n",
      "0: Bursa\n",
      "1: Ankara\n",
      "2: Antalya\n",
      "3: Eskişehir\n",
      "4: Trabzon\n",
      "5: İzmir\n"
     ]
    }
   ],
   "source": [
    "empty_set ={}\n",
    "print(\"Empty set gösterimi: \",empty_set)\n",
    "print(\"\\n\")\n",
    "\n",
    "my_set1 = {\"İstanbul\", \"Ankara\", \"İzmir\"}\n",
    "my_set2 = set([\"İstanbul\", \"Ankara\", \"İzmir\"])\n",
    "print(my_set1)\n",
    "print(type(my_set1))\n",
    "print(my_set2)\n",
    "print(type(my_set2))\n",
    "print(\"\\n\")\n",
    "\n",
    "cities ={\"İstanbul\", \"Ankara\", \"İzmir\", \"Antalya\", \"Ankara\", \"İstanbul\"}\n",
    "print(cities)\n",
    "cities.add(\"Bursa\")\n",
    "print(cities)\n",
    "cities2={\"Eskişehir\", \"Bursa\", \"Adana\", \"İstanbul\", \"İzmir\", \"Trabzon\"}\n",
    "print(cities2)\n",
    "cities.update(cities2)\n",
    "print(cities)\n",
    "cities.remove(\"Adana\")\n",
    "last_cities = cities.pop()\n",
    "print(\"Silinen eleman : \",last_cities) # pop methodu rasgele bir elemanı siler\n",
    "#print(f\"Listenin 2. elemanı: {cities[1]}\")  # TypeError: 'set' object is not subscriptable hatası alırsınız.  \n",
    "print(\"\\n\")\n",
    "\n",
    "for index,city in enumerate(cities):  \n",
    "    print(f\"{index}: {city}\")"
   ]
  },
  {
   "cell_type": "code",
   "execution_count": 97,
   "metadata": {},
   "outputs": [
    {
     "name": "stdout",
     "output_type": "stream",
     "text": [
      "Empty Dictionary gösterimi:  {}\n",
      "\n",
      "\n",
      "{1: 'bir', 2: 'iki', 3: 'üç', 'dört': 4, 'liste': [1, 2, 3]}\n",
      "<class 'dict'>\n",
      "{1: 'bir', 2: 'iki', 3: 'üç', 'dört': 4, 'liste': [1, 2, 3]}\n",
      "<class 'dict'>\n",
      "\n",
      "\n",
      "{'Adı': {'İstanbul', 'Bursa', 'Ankara', 'Antalya', 'İzmir'}, 'Nüfus': {4425789, 15840900, 2619832, 3147818, 5747325}, 'Plaka': {16, 34, 35, 6, 7}, 'a': 1}\n",
      "{'Adı': {'İstanbul', 'Bursa', 'Ankara', 'Antalya', 'İzmir'}, 'Nüfus': {4425789, 15840900, 2619832, 3147818, 5747325}, 'Plaka': {16, 34, 35, 6, 7}, 'a': 1, 'b': (2, 3, 4)}\n",
      "Dictionary Adı elemanları: {'İstanbul', 'Bursa', 'Ankara', 'Antalya', 'İzmir'}\n",
      "Nüfus : {4425789, 15840900, 2619832, 3147818, 5747325}\n",
      "(2, 3, 4)\n",
      "{'Adı': {'İstanbul', 'Bursa', 'Ankara', 'Antalya', 'İzmir'}, 'Nüfus': {4425789, 15840900, 2619832, 3147818, 5747325}, 'Plaka': {16, 34, 35, 6, 7}, 'a': 1}\n",
      "\n",
      "\n",
      "0: Adı\n",
      "1: Nüfus\n",
      "2: Plaka\n",
      "3: a\n",
      "\n",
      "\n",
      "Adı ,  {'İstanbul', 'Bursa', 'Ankara', 'Antalya', 'İzmir'} dir.\n",
      "Nüfus ,  {4425789, 15840900, 2619832, 3147818, 5747325} dir.\n",
      "Plaka ,  {16, 34, 35, 6, 7} dir.\n",
      "a ,  1 dir.\n",
      "False\n",
      "True\n"
     ]
    }
   ],
   "source": [
    "empty_dic = {}\n",
    "print(\"Empty Dictionary gösterimi: \",empty_dic)\n",
    "print(\"\\n\")\n",
    "\n",
    "#dictionary (key,value)\n",
    "my_dic1 =  {1: \"bir\", 2: \"iki\", 3: \"üç\", \"dört\": 4, \"liste\": [1, 2, 3]}\n",
    "my_dic2 =  dict({1: \"bir\", 2: \"iki\", 3: \"üç\", \"dört\": 4, \"liste\": [1, 2, 3]})\n",
    "print(my_dic1)\n",
    "print(type(my_dic1))\n",
    "print(my_dic2)\n",
    "print(type(my_dic2))\n",
    "#my_dic2[5] # KeyError: 5 hatası alırız yanı böyle bir eleman yoktur\n",
    "print(\"\\n\")\n",
    "\n",
    "\n",
    "cities_name = {\"İstanbul\", \"Ankara\", \"İzmir\", \"Antalya\", \"Bursa\"}\n",
    "cities = {\n",
    "    \"Adı\": {\"İstanbul\", \"Ankara\", \"İzmir\", \"Antalya\", \"Bursa\"},\n",
    "    \"Nüfus\": {15840900,5747325,4425789,2619832,3147818},\n",
    "    \"Plaka\": {34,6,35,7,16},\n",
    "    \"a\" : 1\n",
    "}\n",
    "print(cities)\n",
    "cities[\"b\"]= 2,3,4\n",
    "print(cities)\n",
    "print(f\"Dictionary Adı elemanları: {cities['Adı']}\")\n",
    "print(\"Nüfus :\", cities.get('Nüfus'))\n",
    "print(cities.pop('b')) # b keyindeki valuelerı sildi\n",
    "print(cities)\n",
    "print(\"\\n\")\n",
    "\n",
    "for index,city in enumerate(cities):  # sadece keyleri alır\n",
    "    print(f\"{index}: {city}\")\n",
    "\n",
    "print(\"\\n\")\n",
    "\n",
    "for my_key,my_value in cities.items():\n",
    "    print(f\"{my_key} ,  {my_value} dir.\")\n",
    "\n",
    "# cities_name kümesi, cities sözlüğünün anahtar kümesini içeriyor mu?\n",
    "print(set(cities.keys()).issubset(cities_name))\n",
    "# cities_name kümesi, \"Adı\" altındaki küme ile aynı mı?\n",
    "print(cities_name == cities[\"Adı\"])"
   ]
  },
  {
   "cell_type": "code",
   "execution_count": 21,
   "metadata": {},
   "outputs": [
    {
     "name": "stdout",
     "output_type": "stream",
     "text": [
      "[1, 2, 3, 4, 5]\n",
      "[2, 3, 4, 5, 6, 7]\n",
      "[8, 9, 10]\n",
      "[1, 3, 5, 7, 9]\n",
      "[10, 8, 6, 4, 2]\n",
      "[4, 5, 6, 7]\n",
      "[1, 2, 9, 10]\n"
     ]
    }
   ],
   "source": [
    "#Liste Slicing:\n",
    "my_list = [1, 2, 3, 4, 5, 6, 7, 8, 9, 10]\n",
    "\n",
    "# İlk 5 elemanı al\n",
    "first_fiveth = my_list[:5]\n",
    "print(first_fiveth)  # OutPut: [1, 2, 3, 4, 5]\n",
    "\n",
    "# 2. elemandan başla, 7. elemana kadar al\n",
    "second_seventh = my_list[1:7]\n",
    "print(second_seventh)  # OutPut: [2, 3, 4, 5, 6, 7]\n",
    "\n",
    "# Listenin son 3 elemanını al\n",
    "last_three = my_list[-3:]\n",
    "print(last_three)   # OutPut: [8, 9, 10]\n",
    "\n",
    "# 1'den 10'a kadar olan sayıları 2'şer atlayarak al\n",
    "odd_numbers = my_list[0:10:2]\n",
    "print(odd_numbers)  # OutPut: [1, 3, 5, 7, 9]\n",
    "\n",
    "# Tersten her 2'şeri al\n",
    "last_even = my_list[::-2]\n",
    "print(last_even)  # OutPut: [10, 8, 6, 4, 2]\n",
    "\n",
    "# Listenin ortasındaki elemanları al\n",
    "middle_elemans = my_list[len(my_list)//2 - 2 : len(my_list)//2 + 2]\n",
    "print(middle_elemans)  # OutPut: [4, 5, 6, 7]\n",
    "\n",
    "# Listenin her iki ucundan başlayarak ortaya kadar olan elemanları al\n",
    "end_middle = my_list[:2] + my_list[-2:]\n",
    "print(end_middle)  # OutPut: [1, 2, 9, 10]"
   ]
  },
  {
   "cell_type": "code",
   "execution_count": 18,
   "metadata": {},
   "outputs": [
    {
     "name": "stdout",
     "output_type": "stream",
     "text": [
      "Python\n",
      "Programl\n",
      "mlama\n",
      "Pto r\n",
      "alrrnt\n"
     ]
    }
   ],
   "source": [
    "#String Slicing:\n",
    "my_string = \"Python Programlama\"\n",
    "\n",
    "# İlk 6 karakteri al\n",
    "first_six = my_string[:6]\n",
    "print(first_six)  # OutPut: Python\n",
    "\n",
    "# 7. karakterden başla, 15. karaktere kadar al\n",
    "seventh_fifth = my_string[7:15]\n",
    "print(seventh_fifth)  # OutPut: Programl\n",
    "\n",
    "# Metnin son 5 karakterini al\n",
    "last_five = my_string[-5:]\n",
    "print(last_five)  # OutPut: mlama\n",
    "\n",
    "# 1'den 10'a kadar olan harfleri 2'şer atlayarak al\n",
    "odd_letters = my_string[0:10:2]\n",
    "print(odd_letters)  # OutPut: Pto r\n",
    "\n",
    "# Tersten her 3'şer harfi al\n",
    "last_third = my_string[::-3]\n",
    "print(last_third)  # OutPut: alrrnt\n",
    "\n"
   ]
  },
  {
   "cell_type": "code",
   "execution_count": 20,
   "metadata": {},
   "outputs": [
    {
     "name": "stdout",
     "output_type": "stream",
     "text": [
      "(1, 2, 3, 4)\n",
      "(5, 6, 7, 8, 9, 10)\n"
     ]
    }
   ],
   "source": [
    "#Tuple Slicing:\n",
    "my_tuple = (1, 2, 3, 4, 5, 6, 7, 8, 9, 10)\n",
    "\n",
    "# İlk 4 elemanı al\n",
    "first_fourth = my_tuple[:4]\n",
    "print(first_fourth)  # OutPut: (1, 2, 3, 4)\n",
    "\n",
    "# 5. elemandan başla, sona kadar al\n",
    "last_five = my_tuple[4:]\n",
    "print(last_five)   # OutPut: (5, 6, 7, 8, 9, 10)"
   ]
  },
  {
   "cell_type": "code",
   "execution_count": 110,
   "metadata": {},
   "outputs": [
    {
     "name": "stdout",
     "output_type": "stream",
     "text": [
      "ant\n",
      "crow\n",
      "mosquito\n",
      "squirrel\n",
      "deer\n"
     ]
    }
   ],
   "source": [
    "def my_function(my_list):\n",
    "  \n",
    "  for value in my_list:\n",
    "    print(value)\n",
    "    \n",
    "  return None\n",
    "\n",
    "animals = [\"ant\", \"crow\", \"mosquito\",\"squirrel\", \"deer\"]\n",
    "\n",
    "my_function(animals)"
   ]
  },
  {
   "cell_type": "code",
   "execution_count": 111,
   "metadata": {},
   "outputs": [
    {
     "name": "stdout",
     "output_type": "stream",
     "text": [
      "3 :  Tek sayı\n",
      "450 :  Çift sayı\n"
     ]
    }
   ],
   "source": [
    "def my_function(my_number):\n",
    "  if (my_number % 2 == 0):\n",
    "    return \"Çift sayı\"\n",
    "  else:\n",
    "    return \"Tek sayı\"\n",
    "\n",
    "print(\"3 : \",my_function(3))\n",
    "print(\"450 : \",my_function(450))"
   ]
  },
  {
   "cell_type": "code",
   "execution_count": 115,
   "metadata": {},
   "outputs": [
    {
     "name": "stdout",
     "output_type": "stream",
     "text": [
      "123\n"
     ]
    }
   ],
   "source": [
    "def my_add(*args):\n",
    "    # args, bir tuple'dır ve fonksiyona geçilen pozisyonel argümanları içerir\n",
    "    total = 0\n",
    "    for number in args:\n",
    "        total += number\n",
    "    return total\n",
    "\n",
    "\n",
    "print(my_add(10, 20, 3, 40, 50))\n",
    "\n"
   ]
  },
  {
   "cell_type": "code",
   "execution_count": 123,
   "metadata": {},
   "outputs": [
    {
     "name": "stdout",
     "output_type": "stream",
     "text": [
      "ant black\n",
      "Animal: ant\n",
      "Color: black\n",
      "crow black\n",
      "Animal: crow\n",
      "Color: black\n",
      "mosquito green\n",
      "Animal: mosquito\n",
      "Color: green\n",
      "squirrel brown\n",
      "Animal: squirrel\n",
      "Color: brown\n",
      "deer brown-white\n",
      "Animal: deer\n",
      "Color: brown-white\n"
     ]
    }
   ],
   "source": [
    "def my_function(**kwargs):\n",
    "    # kwargs, bir sözlüktür ve fonksiyona geçilen anahtar kelime argümanlarını içerir\n",
    "    for key, value in kwargs.items():\n",
    "        print(f\"{key}: {value}\")\n",
    "\n",
    "animals = [\"ant\", \"crow\", \"mosquito\",\"squirrel\", \"deer\"] #key\n",
    "colors = [\"black\",\"black\", \"green\", \"brown\", \"brown-white\"] # value\n",
    "\n",
    "\n",
    "for index, animal in enumerate(animals):\n",
    "    color = colors[index]\n",
    "    print(animal,color)\n",
    "    my_function(Animal= animal, Color=color)\n",
    "\n",
    "\n"
   ]
  },
  {
   "cell_type": "code",
   "execution_count": 26,
   "metadata": {},
   "outputs": [
    {
     "name": "stdout",
     "output_type": "stream",
     "text": [
      "range(0, 15)\n",
      "[0, 1, 2, 3, 4, 5, 6, 7, 8, 9, 10, 11, 12, 13, 14]\n",
      "[5, 9, 13, 17, 21, 25]\n"
     ]
    }
   ],
   "source": [
    "#Veribilimi için faydalı methotlar range()\n",
    "\n",
    "print(range(15))\n",
    "\n",
    "print(list(range(15)))\n",
    "\n",
    "print(list(range(5,26,4)))"
   ]
  },
  {
   "cell_type": "code",
   "execution_count": 28,
   "metadata": {},
   "outputs": [
    {
     "name": "stdout",
     "output_type": "stream",
     "text": [
      " now number: 5 now index: 0\n",
      " now number: 6 now index: 1\n",
      " now number: 7 now index: 2\n",
      " now number: 8 now index: 3\n",
      " now number: 9 now index: 4\n",
      " now number: 10 now index: 5\n",
      " now number: 11 now index: 6\n",
      " now number: 12 now index: 7\n",
      " now number: 13 now index: 8\n",
      " now number: 14 now index: 9\n"
     ]
    }
   ],
   "source": [
    "#Veribilimi için faydalı methotlar enumerate()\n",
    "index = 0\n",
    "\n",
    "for number in list(range(5,15)):\n",
    "    print(f\" now number: {number} now index: {index}\")\n",
    "    index += +1\n"
   ]
  },
  {
   "cell_type": "code",
   "execution_count": 30,
   "metadata": {},
   "outputs": [
    {
     "name": "stdout",
     "output_type": "stream",
     "text": [
      "(0, 5)\n",
      "(1, 6)\n",
      "(2, 7)\n",
      "(3, 8)\n",
      "(4, 9)\n",
      "(5, 10)\n",
      "(6, 11)\n",
      "(7, 12)\n",
      "(8, 13)\n",
      "(9, 14)\n"
     ]
    }
   ],
   "source": [
    "for eleman in enumerate(list(range(5,15))):\n",
    "    # print(type(eleman)) OutPut: <class 'tuple'>\n",
    "     print(eleman)"
   ]
  },
  {
   "cell_type": "code",
   "execution_count": 33,
   "metadata": {},
   "outputs": [
    {
     "name": "stdout",
     "output_type": "stream",
     "text": [
      "5\n",
      "6\n",
      "7\n",
      "8\n",
      "9\n",
      "10\n",
      "11\n",
      "12\n",
      "13\n",
      "14\n"
     ]
    }
   ],
   "source": [
    "for (index,number) in enumerate(list(range(5,15))):\n",
    "    print(number) # or print(index)\n",
    "    "
   ]
  },
  {
   "cell_type": "code",
   "execution_count": 35,
   "metadata": {},
   "outputs": [
    {
     "data": {
      "text/plain": [
       "57"
      ]
     },
     "execution_count": 35,
     "metadata": {},
     "output_type": "execute_result"
    }
   ],
   "source": [
    "from random import randint \n",
    "\n",
    "randint(0,75)"
   ]
  },
  {
   "cell_type": "code",
   "execution_count": 36,
   "metadata": {},
   "outputs": [
    {
     "data": {
      "text/plain": [
       "[0, 1, 2, 3, 4, 5, 6, 7, 8, 9]"
      ]
     },
     "execution_count": 36,
     "metadata": {},
     "output_type": "execute_result"
    }
   ],
   "source": [
    "from random import shuffle\n",
    "new_list = list(range(0,10))\n",
    "\n",
    "new_list"
   ]
  },
  {
   "cell_type": "code",
   "execution_count": 37,
   "metadata": {},
   "outputs": [],
   "source": [
    "shuffle(new_list)"
   ]
  },
  {
   "cell_type": "code",
   "execution_count": null,
   "metadata": {},
   "outputs": [],
   "source": [
    "#Veribilimi için faydalı methotlar zip\n",
    "\n"
   ]
  }
 ],
 "metadata": {
  "kernelspec": {
   "display_name": "Python 3",
   "language": "python",
   "name": "python3"
  },
  "language_info": {
   "codemirror_mode": {
    "name": "ipython",
    "version": 3
   },
   "file_extension": ".py",
   "mimetype": "text/x-python",
   "name": "python",
   "nbconvert_exporter": "python",
   "pygments_lexer": "ipython3",
   "version": "3.10.0rc2"
  }
 },
 "nbformat": 4,
 "nbformat_minor": 2
}
