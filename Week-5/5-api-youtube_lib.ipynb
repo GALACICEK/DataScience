{
 "cells": [
  {
   "cell_type": "markdown",
   "metadata": {},
   "source": [
    "- pip install google-api-python-client\n",
    "- source: https://developers.google.com/youtube/v3/quickstart/python?hl=tr"
   ]
  },
  {
   "cell_type": "code",
   "execution_count": 1,
   "metadata": {},
   "outputs": [],
   "source": [
    "from googleapiclient.discovery import build\n",
    "from IPython.display import JSON\n",
    "import pandas as pd"
   ]
  },
  {
   "cell_type": "code",
   "execution_count": null,
   "metadata": {},
   "outputs": [],
   "source": [
    "from config import YOUTUBE_API_KEY"
   ]
  },
  {
   "cell_type": "code",
   "execution_count": 3,
   "metadata": {},
   "outputs": [
    {
     "name": "stdout",
     "output_type": "stream",
     "text": [
      "{'kind': 'youtube#channelListResponse', 'etag': 'cv5bbAnSvVfrZP5oZePS2xSRDrw', 'pageInfo': {'totalResults': 1, 'resultsPerPage': 5}, 'items': [{'kind': 'youtube#channel', 'etag': 'NAsYl4ngGFkpuAYGeQi-UAKuFPs', 'id': 'UCYO_jab_esuFRV4b17AJtAw', 'snippet': {'title': '3Blue1Brown', 'description': 'My name is Grant Sanderson. Videos here cover a variety of topics in math, or adjacent fields like physics and CS, all with an emphasis on visualizing the core ideas. To goal is to use animation to help elucidate and motivate otherwise tricky topics, and for difficult problems to be made simple with changes in perspective.\\n\\nFor more information, other projects, FAQs, and inquiries see the website: https://www.3blue1brown.com', 'customUrl': '@3blue1brown', 'publishedAt': '2015-03-03T23:11:55Z', 'thumbnails': {'default': {'url': 'https://yt3.ggpht.com/ytc/AIf8zZSApZdSBilmxjGARJbX1WdIFYXFv69aixy9FcJraA=s88-c-k-c0x00ffffff-no-rj', 'width': 88, 'height': 88}, 'medium': {'url': 'https://yt3.ggpht.com/ytc/AIf8zZSApZdSBilmxjGARJbX1WdIFYXFv69aixy9FcJraA=s240-c-k-c0x00ffffff-no-rj', 'width': 240, 'height': 240}, 'high': {'url': 'https://yt3.ggpht.com/ytc/AIf8zZSApZdSBilmxjGARJbX1WdIFYXFv69aixy9FcJraA=s800-c-k-c0x00ffffff-no-rj', 'width': 800, 'height': 800}}, 'localized': {'title': '3Blue1Brown', 'description': 'My name is Grant Sanderson. Videos here cover a variety of topics in math, or adjacent fields like physics and CS, all with an emphasis on visualizing the core ideas. To goal is to use animation to help elucidate and motivate otherwise tricky topics, and for difficult problems to be made simple with changes in perspective.\\n\\nFor more information, other projects, FAQs, and inquiries see the website: https://www.3blue1brown.com'}, 'country': 'US'}, 'contentDetails': {'relatedPlaylists': {'likes': '', 'uploads': 'UUYO_jab_esuFRV4b17AJtAw'}}, 'statistics': {'viewCount': '425321114', 'subscriberCount': '5760000', 'hiddenSubscriberCount': False, 'videoCount': '161'}}]}\n"
     ]
    }
   ],
   "source": [
    "api_service_name = \"youtube\"\n",
    "api_version = \"v3\"\n",
    "\n",
    "channel_ids = [\n",
    "    \"UCYO_jab_esuFRV4b17AJtAw\",\n",
    "    # Can add more channels\n",
    "]\n",
    "\n",
    "# Get credentials and create an API client\n",
    "\n",
    "youtube = build(\n",
    "    api_service_name, api_version, developerKey=YOUTUBE_API_KEY)\n",
    "\n",
    "request = youtube.channels().list(\n",
    "    part=\"snippet,contentDetails,statistics\",\n",
    "    id=\",\".join(channel_ids)\n",
    ")\n",
    "response = request.execute()\n",
    "\n",
    "print(response)"
   ]
  },
  {
   "cell_type": "code",
   "execution_count": 4,
   "metadata": {},
   "outputs": [
    {
     "data": {
      "application/json": {
       "etag": "cv5bbAnSvVfrZP5oZePS2xSRDrw",
       "items": [
        {
         "contentDetails": {
          "relatedPlaylists": {
           "likes": "",
           "uploads": "UUYO_jab_esuFRV4b17AJtAw"
          }
         },
         "etag": "NAsYl4ngGFkpuAYGeQi-UAKuFPs",
         "id": "UCYO_jab_esuFRV4b17AJtAw",
         "kind": "youtube#channel",
         "snippet": {
          "country": "US",
          "customUrl": "@3blue1brown",
          "description": "My name is Grant Sanderson. Videos here cover a variety of topics in math, or adjacent fields like physics and CS, all with an emphasis on visualizing the core ideas. To goal is to use animation to help elucidate and motivate otherwise tricky topics, and for difficult problems to be made simple with changes in perspective.\n\nFor more information, other projects, FAQs, and inquiries see the website: https://www.3blue1brown.com",
          "localized": {
           "description": "My name is Grant Sanderson. Videos here cover a variety of topics in math, or adjacent fields like physics and CS, all with an emphasis on visualizing the core ideas. To goal is to use animation to help elucidate and motivate otherwise tricky topics, and for difficult problems to be made simple with changes in perspective.\n\nFor more information, other projects, FAQs, and inquiries see the website: https://www.3blue1brown.com",
           "title": "3Blue1Brown"
          },
          "publishedAt": "2015-03-03T23:11:55Z",
          "thumbnails": {
           "default": {
            "height": 88,
            "url": "https://yt3.ggpht.com/ytc/AIf8zZSApZdSBilmxjGARJbX1WdIFYXFv69aixy9FcJraA=s88-c-k-c0x00ffffff-no-rj",
            "width": 88
           },
           "high": {
            "height": 800,
            "url": "https://yt3.ggpht.com/ytc/AIf8zZSApZdSBilmxjGARJbX1WdIFYXFv69aixy9FcJraA=s800-c-k-c0x00ffffff-no-rj",
            "width": 800
           },
           "medium": {
            "height": 240,
            "url": "https://yt3.ggpht.com/ytc/AIf8zZSApZdSBilmxjGARJbX1WdIFYXFv69aixy9FcJraA=s240-c-k-c0x00ffffff-no-rj",
            "width": 240
           }
          },
          "title": "3Blue1Brown"
         },
         "statistics": {
          "hiddenSubscriberCount": false,
          "subscriberCount": "5760000",
          "videoCount": "161",
          "viewCount": "425321114"
         }
        }
       ],
       "kind": "youtube#channelListResponse",
       "pageInfo": {
        "resultsPerPage": 5,
        "totalResults": 1
       }
      },
      "text/plain": [
       "<IPython.core.display.JSON object>"
      ]
     },
     "execution_count": 4,
     "metadata": {
      "application/json": {
       "expanded": false,
       "root": "root"
      }
     },
     "output_type": "execute_result"
    }
   ],
   "source": [
    "JSON(response)"
   ]
  },
  {
   "cell_type": "code",
   "execution_count": 5,
   "metadata": {},
   "outputs": [],
   "source": [
    "api_service_name = \"youtube\"\n",
    "api_version = \"v3\"\n",
    "\n",
    "channel_ids = [\n",
    "    \"UCYO_jab_esuFRV4b17AJtAw\",\n",
    "    # Can add more channels\n",
    "]\n",
    "\n",
    "# Get credentials and create an API client\n",
    "youtube = build(api_service_name, api_version, developerKey=YOUTUBE_API_KEY)"
   ]
  },
  {
   "cell_type": "code",
   "execution_count": 6,
   "metadata": {},
   "outputs": [],
   "source": [
    "def get_channel_stats(youtube, channel_ids):\n",
    "    all_data = []\n",
    "\n",
    "    request = youtube.channels().list(\n",
    "        part=\"snippet,contentDetails,statistics\",\n",
    "        id=\",\".join(channel_ids)\n",
    "    )\n",
    "\n",
    "    response = request.execute()\n",
    "\n",
    "    # loop through items in response\n",
    "    for item in response[\"items\"]:\n",
    "        data = {'channelName': item['snippet']['title'],\n",
    "                'subscribers': item['statistics']['subscriberCount'],\n",
    "                'views': item['statistics']['viewCount'],\n",
    "                'totalVideos': item['statistics']['videoCount'],\n",
    "                'playlistId': item['contentDetails']['relatedPlaylists']['uploads']\n",
    "        }\n",
    "        all_data.append(data)\n",
    "    \n",
    "    return pd.DataFrame(all_data)"
   ]
  },
  {
   "cell_type": "code",
   "execution_count": 7,
   "metadata": {},
   "outputs": [],
   "source": [
    "channel_ids = get_channel_stats(youtube, channel_ids)"
   ]
  },
  {
   "cell_type": "code",
   "execution_count": 8,
   "metadata": {},
   "outputs": [
    {
     "data": {
      "text/html": [
       "<div>\n",
       "<style scoped>\n",
       "    .dataframe tbody tr th:only-of-type {\n",
       "        vertical-align: middle;\n",
       "    }\n",
       "\n",
       "    .dataframe tbody tr th {\n",
       "        vertical-align: top;\n",
       "    }\n",
       "\n",
       "    .dataframe thead th {\n",
       "        text-align: right;\n",
       "    }\n",
       "</style>\n",
       "<table border=\"1\" class=\"dataframe\">\n",
       "  <thead>\n",
       "    <tr style=\"text-align: right;\">\n",
       "      <th></th>\n",
       "      <th>channelName</th>\n",
       "      <th>subscribers</th>\n",
       "      <th>views</th>\n",
       "      <th>totalVideos</th>\n",
       "      <th>playlistId</th>\n",
       "    </tr>\n",
       "  </thead>\n",
       "  <tbody>\n",
       "    <tr>\n",
       "      <th>0</th>\n",
       "      <td>3Blue1Brown</td>\n",
       "      <td>5760000</td>\n",
       "      <td>425321114</td>\n",
       "      <td>161</td>\n",
       "      <td>UUYO_jab_esuFRV4b17AJtAw</td>\n",
       "    </tr>\n",
       "  </tbody>\n",
       "</table>\n",
       "</div>"
      ],
      "text/plain": [
       "   channelName subscribers      views totalVideos                playlistId\n",
       "0  3Blue1Brown     5760000  425321114         161  UUYO_jab_esuFRV4b17AJtAw"
      ]
     },
     "execution_count": 8,
     "metadata": {},
     "output_type": "execute_result"
    }
   ],
   "source": [
    "channel_ids"
   ]
  },
  {
   "cell_type": "code",
   "execution_count": 9,
   "metadata": {},
   "outputs": [],
   "source": [
    "request = youtube.playlistItems().list(\n",
    "        part=\"snippet,contentDetails\",\n",
    "        playlistId=\"UUYO_jab_esuFRV4b17AJtAw\"\n",
    "    )\n",
    "response = request.execute()"
   ]
  },
  {
   "cell_type": "code",
   "execution_count": 10,
   "metadata": {},
   "outputs": [
    {
     "data": {
      "application/json": {
       "etag": "QEOC9wrDiL0xKe2nLZ9ARR6jhkw",
       "items": [
        {
         "contentDetails": {
          "videoId": "BTryyW7gqg4",
          "videoPublishedAt": "2024-01-02T00:00:09Z"
         },
         "etag": "zIEsjvzZedLeLlPbBOUU9uICKWw",
         "id": "VVVZT19qYWJfZXN1RlJWNGIxN0FKdEF3LkJUcnl5VzdncWc0",
         "kind": "youtube#playlistItem",
         "snippet": {
          "channelId": "UCYO_jab_esuFRV4b17AJtAw",
          "channelTitle": "3Blue1Brown",
          "description": "A link to the full video is at the bottom of the screen.\nOr, for reference: https://youtu.be/v68zYyaEmEA\n\nThat video describes using information theory to write a bot that plays Wordle\n\nEditing from long-form to short by Dawid Kołodziej",
          "playlistId": "UUYO_jab_esuFRV4b17AJtAw",
          "position": 0,
          "publishedAt": "2024-01-02T00:00:09Z",
          "resourceId": {
           "kind": "youtube#video",
           "videoId": "BTryyW7gqg4"
          },
          "thumbnails": {
           "default": {
            "height": 90,
            "url": "https://i.ytimg.com/vi/BTryyW7gqg4/default.jpg",
            "width": 120
           },
           "high": {
            "height": 360,
            "url": "https://i.ytimg.com/vi/BTryyW7gqg4/hqdefault.jpg",
            "width": 480
           },
           "maxres": {
            "height": 720,
            "url": "https://i.ytimg.com/vi/BTryyW7gqg4/maxresdefault.jpg",
            "width": 1280
           },
           "medium": {
            "height": 180,
            "url": "https://i.ytimg.com/vi/BTryyW7gqg4/mqdefault.jpg",
            "width": 320
           },
           "standard": {
            "height": 480,
            "url": "https://i.ytimg.com/vi/BTryyW7gqg4/sddefault.jpg",
            "width": 640
           }
          },
          "title": "Definition of a \"bit\", in information theory",
          "videoOwnerChannelId": "UCYO_jab_esuFRV4b17AJtAw",
          "videoOwnerChannelTitle": "3Blue1Brown"
         }
        },
        {
         "contentDetails": {
          "videoId": "kpG7I2MOcnI",
          "videoPublishedAt": "2023-12-29T19:00:32Z"
         },
         "etag": "sX-6IAqRx_n9I5ajcvBBDVBIwos",
         "id": "VVVZT19qYWJfZXN1RlJWNGIxN0FKdEF3LmtwRzdJMk1PY25J",
         "kind": "youtube#playlistItem",
         "snippet": {
          "channelId": "UCYO_jab_esuFRV4b17AJtAw",
          "channelTitle": "3Blue1Brown",
          "description": "A link to the full video is at the bottom of the screen. Or, for reference: https://youtu.be/-RdOwhmqP5s",
          "playlistId": "UUYO_jab_esuFRV4b17AJtAw",
          "position": 1,
          "publishedAt": "2023-12-29T19:00:32Z",
          "resourceId": {
           "kind": "youtube#video",
           "videoId": "kpG7I2MOcnI"
          },
          "thumbnails": {
           "default": {
            "height": 90,
            "url": "https://i.ytimg.com/vi/kpG7I2MOcnI/default.jpg",
            "width": 120
           },
           "high": {
            "height": 360,
            "url": "https://i.ytimg.com/vi/kpG7I2MOcnI/hqdefault.jpg",
            "width": 480
           },
           "maxres": {
            "height": 720,
            "url": "https://i.ytimg.com/vi/kpG7I2MOcnI/maxresdefault.jpg",
            "width": 1280
           },
           "medium": {
            "height": 180,
            "url": "https://i.ytimg.com/vi/kpG7I2MOcnI/mqdefault.jpg",
            "width": 320
           },
           "standard": {
            "height": 480,
            "url": "https://i.ytimg.com/vi/kpG7I2MOcnI/sddefault.jpg",
            "width": 640
           }
          },
          "title": "The Newton art puzzle",
          "videoOwnerChannelId": "UCYO_jab_esuFRV4b17AJtAw",
          "videoOwnerChannelTitle": "3Blue1Brown"
         }
        },
        {
         "contentDetails": {
          "videoId": "3KbiJ-z0j44",
          "videoPublishedAt": "2023-12-27T19:00:01Z"
         },
         "etag": "JwAhFaZMPON4ooJrN3fiYVVC9UY",
         "id": "VVVZT19qYWJfZXN1RlJWNGIxN0FKdEF3LjNLYmlKLXowajQ0",
         "kind": "youtube#playlistItem",
         "snippet": {
          "channelId": "UCYO_jab_esuFRV4b17AJtAw",
          "channelTitle": "3Blue1Brown",
          "description": "A link to the full video is at the bottom of the screen.\nOr, for reference: https://youtu.be/mH0oCDa74tE\n\nThat video introduces group theory and the monster group.\n\nEditing from long-form to short by Dawid Kołodziej",
          "playlistId": "UUYO_jab_esuFRV4b17AJtAw",
          "position": 2,
          "publishedAt": "2023-12-27T19:00:01Z",
          "resourceId": {
           "kind": "youtube#video",
           "videoId": "3KbiJ-z0j44"
          },
          "thumbnails": {
           "default": {
            "height": 90,
            "url": "https://i.ytimg.com/vi/3KbiJ-z0j44/default.jpg",
            "width": 120
           },
           "high": {
            "height": 360,
            "url": "https://i.ytimg.com/vi/3KbiJ-z0j44/hqdefault.jpg",
            "width": 480
           },
           "maxres": {
            "height": 720,
            "url": "https://i.ytimg.com/vi/3KbiJ-z0j44/maxresdefault.jpg",
            "width": 1280
           },
           "medium": {
            "height": 180,
            "url": "https://i.ytimg.com/vi/3KbiJ-z0j44/mqdefault.jpg",
            "width": 320
           },
           "standard": {
            "height": 480,
            "url": "https://i.ytimg.com/vi/3KbiJ-z0j44/sddefault.jpg",
            "width": 640
           }
          },
          "title": "What is a group?",
          "videoOwnerChannelId": "UCYO_jab_esuFRV4b17AJtAw",
          "videoOwnerChannelTitle": "3Blue1Brown"
         }
        },
        {
         "contentDetails": {
          "videoId": "R1e7aHBKLnM",
          "videoPublishedAt": "2023-12-25T19:00:15Z"
         },
         "etag": "xapvE1_sosSA_cj4u2Kuf3lOGWg",
         "id": "VVVZT19qYWJfZXN1RlJWNGIxN0FKdEF3LlIxZTdhSEJLTG5N",
         "kind": "youtube#playlistItem",
         "snippet": {
          "channelId": "UCYO_jab_esuFRV4b17AJtAw",
          "channelTitle": "3Blue1Brown",
          "description": "A link to the full video is at the bottom of the screen.\nOr, for reference: https://youtu.be/NaL_Cb42WyY\n\nThat video explores how this question leads to a quandary on prime numbers, and how a pattern in primes allows for a clean final answer.\n\nEditing from long-form to short by Dawid Kołodziej",
          "playlistId": "UUYO_jab_esuFRV4b17AJtAw",
          "position": 3,
          "publishedAt": "2023-12-25T19:00:15Z",
          "resourceId": {
           "kind": "youtube#video",
           "videoId": "R1e7aHBKLnM"
          },
          "thumbnails": {
           "default": {
            "height": 90,
            "url": "https://i.ytimg.com/vi/R1e7aHBKLnM/default.jpg",
            "width": 120
           },
           "high": {
            "height": 360,
            "url": "https://i.ytimg.com/vi/R1e7aHBKLnM/hqdefault.jpg",
            "width": 480
           },
           "maxres": {
            "height": 720,
            "url": "https://i.ytimg.com/vi/R1e7aHBKLnM/maxresdefault.jpg",
            "width": 1280
           },
           "medium": {
            "height": 180,
            "url": "https://i.ytimg.com/vi/R1e7aHBKLnM/mqdefault.jpg",
            "width": 320
           },
           "standard": {
            "height": 480,
            "url": "https://i.ytimg.com/vi/R1e7aHBKLnM/sddefault.jpg",
            "width": 640
           }
          },
          "title": "How to derive a formula for π",
          "videoOwnerChannelId": "UCYO_jab_esuFRV4b17AJtAw",
          "videoOwnerChannelTitle": "3Blue1Brown"
         }
        },
        {
         "contentDetails": {
          "videoId": "tjIOqIr80ns",
          "videoPublishedAt": "2023-12-23T00:00:26Z"
         },
         "etag": "SPynm7AtC9YCJozhojOWVt5gXVU",
         "id": "VVVZT19qYWJfZXN1RlJWNGIxN0FKdEF3LnRqSU9xSXI4MG5z",
         "kind": "youtube#playlistItem",
         "snippet": {
          "channelId": "UCYO_jab_esuFRV4b17AJtAw",
          "channelTitle": "3Blue1Brown",
          "description": "A link to the full video is at the bottom of the screen.\nOr, for reference: https://youtu.be/VYQVlVoWoPY\n\nThat video gives multiple examples of lying with visual proofs\n\nEditing from the original video into this short by Dawid Kołodziej",
          "playlistId": "UUYO_jab_esuFRV4b17AJtAw",
          "position": 4,
          "publishedAt": "2023-12-23T00:00:26Z",
          "resourceId": {
           "kind": "youtube#video",
           "videoId": "tjIOqIr80ns"
          },
          "thumbnails": {
           "default": {
            "height": 90,
            "url": "https://i.ytimg.com/vi/tjIOqIr80ns/default.jpg",
            "width": 120
           },
           "high": {
            "height": 360,
            "url": "https://i.ytimg.com/vi/tjIOqIr80ns/hqdefault.jpg",
            "width": 480
           },
           "maxres": {
            "height": 720,
            "url": "https://i.ytimg.com/vi/tjIOqIr80ns/maxresdefault.jpg",
            "width": 1280
           },
           "medium": {
            "height": 180,
            "url": "https://i.ytimg.com/vi/tjIOqIr80ns/mqdefault.jpg",
            "width": 320
           },
           "standard": {
            "height": 480,
            "url": "https://i.ytimg.com/vi/tjIOqIr80ns/sddefault.jpg",
            "width": 640
           }
          },
          "title": "The limit of limiting arguments",
          "videoOwnerChannelId": "UCYO_jab_esuFRV4b17AJtAw",
          "videoOwnerChannelTitle": "3Blue1Brown"
         }
        }
       ],
       "kind": "youtube#playlistItemListResponse",
       "nextPageToken": "EAAafVBUOkNBVWlFRGxETXpRNVJrSkVOVEl4T0RCRVJVWW9BVWlTek52MHNyMkRBMUFCV2pnaVEyaG9WbFpXYkZCWU1uQm9XV3c1YkdNelZrZFZiRmt3V1dwRk0xRlZjREJSV0dOVFJFRnBTM0JOTW5OQ2FFUlJjRTExTVVGUkln",
       "pageInfo": {
        "resultsPerPage": 5,
        "totalResults": 161
       }
      },
      "text/plain": [
       "<IPython.core.display.JSON object>"
      ]
     },
     "execution_count": 10,
     "metadata": {
      "application/json": {
       "expanded": false,
       "root": "root"
      }
     },
     "output_type": "execute_result"
    }
   ],
   "source": [
    "JSON(response)"
   ]
  },
  {
   "cell_type": "code",
   "execution_count": 11,
   "metadata": {},
   "outputs": [],
   "source": [
    "def get_video_ids(youtube, playlist_id):\n",
    "    video_ids = []\n",
    "\n",
    "    request = youtube.playlistItems().list(\n",
    "            part=\"snippet,contentDetails\",\n",
    "            playlistId=playlist_id\n",
    "        )\n",
    "    response = request.execute()\n",
    "\n",
    "    for item in response['items']:\n",
    "        video_ids.append(item['contentDetails']['videoId'])\n",
    "        \n",
    "    return video_ids"
   ]
  },
  {
   "cell_type": "code",
   "execution_count": 12,
   "metadata": {},
   "outputs": [],
   "source": [
    "playlist_id = \"UUYO_jab_esuFRV4b17AJtAw\"\n",
    "\n",
    "video_ids = get_video_ids(youtube, playlist_id)"
   ]
  },
  {
   "cell_type": "code",
   "execution_count": 13,
   "metadata": {},
   "outputs": [
    {
     "data": {
      "text/plain": [
       "['BTryyW7gqg4', 'kpG7I2MOcnI', '3KbiJ-z0j44', 'R1e7aHBKLnM', 'tjIOqIr80ns']"
      ]
     },
     "execution_count": 13,
     "metadata": {},
     "output_type": "execute_result"
    }
   ],
   "source": [
    "video_ids"
   ]
  },
  {
   "cell_type": "code",
   "execution_count": 14,
   "metadata": {},
   "outputs": [],
   "source": [
    "def get_video_ids(youtube, playlist_id):\n",
    "    video_ids = []\n",
    "\n",
    "    request = youtube.playlistItems().list(\n",
    "            part=\"snippet,contentDetails\",\n",
    "            playlistId=playlist_id,\n",
    "            maxResults=50\n",
    "        )\n",
    "    response = request.execute()\n",
    "\n",
    "    for item in response['items']:\n",
    "        video_ids.append(item['contentDetails']['videoId'])\n",
    "\n",
    "    next_page_token = response.get('nextPageToken')\n",
    "    \n",
    "    while next_page_token is not None:\n",
    "        request = youtube.playlistItems().list(\n",
    "                part=\"snippet,contentDetails\",\n",
    "                playlistId=playlist_id,\n",
    "                maxResults=50,\n",
    "                pageToken=next_page_token\n",
    "            )\n",
    "        response = request.execute()\n",
    "\n",
    "        for item in response['items']:\n",
    "            video_ids.append(item['contentDetails']['videoId'])\n",
    "\n",
    "        next_page_token = response.get('nextPageToken')    \n",
    "\n",
    "        \n",
    "    return video_ids"
   ]
  },
  {
   "cell_type": "code",
   "execution_count": 15,
   "metadata": {},
   "outputs": [],
   "source": [
    "playlist_id = \"UUYO_jab_esuFRV4b17AJtAw\"\n",
    "\n",
    "video_ids = get_video_ids(youtube, playlist_id)"
   ]
  },
  {
   "cell_type": "code",
   "execution_count": 16,
   "metadata": {},
   "outputs": [
    {
     "data": {
      "text/plain": [
       "161"
      ]
     },
     "execution_count": 16,
     "metadata": {},
     "output_type": "execute_result"
    }
   ],
   "source": [
    "len(video_ids)"
   ]
  }
 ],
 "metadata": {
  "kernelspec": {
   "display_name": "Python 3",
   "language": "python",
   "name": "python3"
  },
  "language_info": {
   "codemirror_mode": {
    "name": "ipython",
    "version": 3
   },
   "file_extension": ".py",
   "mimetype": "text/x-python",
   "name": "python",
   "nbconvert_exporter": "python",
   "pygments_lexer": "ipython3",
   "version": "3.10.0rc2"
  }
 },
 "nbformat": 4,
 "nbformat_minor": 2
}
