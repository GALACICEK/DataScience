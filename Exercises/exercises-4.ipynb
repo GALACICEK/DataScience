{
 "cells": [
  {
   "cell_type": "markdown",
   "metadata": {},
   "source": [
    "### Restcountries API\n",
    "\n",
    "https://restcountries.com/v3.1/all\n",
    "\n",
    "https://restcountries.com/"
   ]
  },
  {
   "cell_type": "code",
   "execution_count": 2,
   "metadata": {},
   "outputs": [],
   "source": [
    "import numpy as np\n",
    "import pandas as pd\n",
    "import matplotlib.pyplot as plt"
   ]
  },
  {
   "cell_type": "code",
   "execution_count": 8,
   "metadata": {},
   "outputs": [],
   "source": [
    "url_api_endpoint = \"https://restcountries.com/v3.1/independent?status=true&fields=languages,capital,population,area,region\""
   ]
  },
  {
   "cell_type": "code",
   "execution_count": 9,
   "metadata": {},
   "outputs": [],
   "source": [
    "url_api_endpoint = url_api_endpoint.replace(\" \",\"%20\")\n",
    "\n",
    "data = pd.read_json(url_api_endpoint)"
   ]
  },
  {
   "cell_type": "code",
   "execution_count": 10,
   "metadata": {},
   "outputs": [
    {
     "data": {
      "text/html": [
       "<div>\n",
       "<style scoped>\n",
       "    .dataframe tbody tr th:only-of-type {\n",
       "        vertical-align: middle;\n",
       "    }\n",
       "\n",
       "    .dataframe tbody tr th {\n",
       "        vertical-align: top;\n",
       "    }\n",
       "\n",
       "    .dataframe thead th {\n",
       "        text-align: right;\n",
       "    }\n",
       "</style>\n",
       "<table border=\"1\" class=\"dataframe\">\n",
       "  <thead>\n",
       "    <tr style=\"text-align: right;\">\n",
       "      <th></th>\n",
       "      <th>capital</th>\n",
       "      <th>region</th>\n",
       "      <th>languages</th>\n",
       "      <th>area</th>\n",
       "      <th>population</th>\n",
       "    </tr>\n",
       "  </thead>\n",
       "  <tbody>\n",
       "    <tr>\n",
       "      <th>0</th>\n",
       "      <td>[Asmara]</td>\n",
       "      <td>Africa</td>\n",
       "      <td>{'ara': 'Arabic', 'eng': 'English', 'tir': 'Ti...</td>\n",
       "      <td>117600.0</td>\n",
       "      <td>5352000</td>\n",
       "    </tr>\n",
       "    <tr>\n",
       "      <th>1</th>\n",
       "      <td>[Apia]</td>\n",
       "      <td>Oceania</td>\n",
       "      <td>{'eng': 'English', 'smo': 'Samoan'}</td>\n",
       "      <td>2842.0</td>\n",
       "      <td>198410</td>\n",
       "    </tr>\n",
       "    <tr>\n",
       "      <th>2</th>\n",
       "      <td>[Skopje]</td>\n",
       "      <td>Europe</td>\n",
       "      <td>{'mkd': 'Macedonian'}</td>\n",
       "      <td>25713.0</td>\n",
       "      <td>2077132</td>\n",
       "    </tr>\n",
       "    <tr>\n",
       "      <th>3</th>\n",
       "      <td>[Djibouti]</td>\n",
       "      <td>Africa</td>\n",
       "      <td>{'ara': 'Arabic', 'fra': 'French'}</td>\n",
       "      <td>23200.0</td>\n",
       "      <td>988002</td>\n",
       "    </tr>\n",
       "    <tr>\n",
       "      <th>4</th>\n",
       "      <td>[Amman]</td>\n",
       "      <td>Asia</td>\n",
       "      <td>{'ara': 'Arabic'}</td>\n",
       "      <td>89342.0</td>\n",
       "      <td>10203140</td>\n",
       "    </tr>\n",
       "    <tr>\n",
       "      <th>...</th>\n",
       "      <td>...</td>\n",
       "      <td>...</td>\n",
       "      <td>...</td>\n",
       "      <td>...</td>\n",
       "      <td>...</td>\n",
       "    </tr>\n",
       "    <tr>\n",
       "      <th>189</th>\n",
       "      <td>[Baku]</td>\n",
       "      <td>Asia</td>\n",
       "      <td>{'aze': 'Azerbaijani'}</td>\n",
       "      <td>86600.0</td>\n",
       "      <td>10110116</td>\n",
       "    </tr>\n",
       "    <tr>\n",
       "      <th>190</th>\n",
       "      <td>[Dili]</td>\n",
       "      <td>Asia</td>\n",
       "      <td>{'por': 'Portuguese', 'tet': 'Tetum'}</td>\n",
       "      <td>14874.0</td>\n",
       "      <td>1318442</td>\n",
       "    </tr>\n",
       "    <tr>\n",
       "      <th>191</th>\n",
       "      <td>[Tehran]</td>\n",
       "      <td>Asia</td>\n",
       "      <td>{'fas': 'Persian (Farsi)'}</td>\n",
       "      <td>1648195.0</td>\n",
       "      <td>83992953</td>\n",
       "    </tr>\n",
       "    <tr>\n",
       "      <th>192</th>\n",
       "      <td>[Zagreb]</td>\n",
       "      <td>Europe</td>\n",
       "      <td>{'hrv': 'Croatian'}</td>\n",
       "      <td>56594.0</td>\n",
       "      <td>4047200</td>\n",
       "    </tr>\n",
       "    <tr>\n",
       "      <th>193</th>\n",
       "      <td>[Yamoussoukro]</td>\n",
       "      <td>Africa</td>\n",
       "      <td>{'fra': 'French'}</td>\n",
       "      <td>322463.0</td>\n",
       "      <td>26378275</td>\n",
       "    </tr>\n",
       "  </tbody>\n",
       "</table>\n",
       "<p>194 rows × 5 columns</p>\n",
       "</div>"
      ],
      "text/plain": [
       "            capital   region  \\\n",
       "0          [Asmara]   Africa   \n",
       "1            [Apia]  Oceania   \n",
       "2          [Skopje]   Europe   \n",
       "3        [Djibouti]   Africa   \n",
       "4           [Amman]     Asia   \n",
       "..              ...      ...   \n",
       "189          [Baku]     Asia   \n",
       "190          [Dili]     Asia   \n",
       "191        [Tehran]     Asia   \n",
       "192        [Zagreb]   Europe   \n",
       "193  [Yamoussoukro]   Africa   \n",
       "\n",
       "                                             languages       area  population  \n",
       "0    {'ara': 'Arabic', 'eng': 'English', 'tir': 'Ti...   117600.0     5352000  \n",
       "1                  {'eng': 'English', 'smo': 'Samoan'}     2842.0      198410  \n",
       "2                                {'mkd': 'Macedonian'}    25713.0     2077132  \n",
       "3                   {'ara': 'Arabic', 'fra': 'French'}    23200.0      988002  \n",
       "4                                    {'ara': 'Arabic'}    89342.0    10203140  \n",
       "..                                                 ...        ...         ...  \n",
       "189                             {'aze': 'Azerbaijani'}    86600.0    10110116  \n",
       "190              {'por': 'Portuguese', 'tet': 'Tetum'}    14874.0     1318442  \n",
       "191                         {'fas': 'Persian (Farsi)'}  1648195.0    83992953  \n",
       "192                                {'hrv': 'Croatian'}    56594.0     4047200  \n",
       "193                                  {'fra': 'French'}   322463.0    26378275  \n",
       "\n",
       "[194 rows x 5 columns]"
      ]
     },
     "execution_count": 10,
     "metadata": {},
     "output_type": "execute_result"
    }
   ],
   "source": [
    "data"
   ]
  },
  {
   "cell_type": "code",
   "execution_count": 11,
   "metadata": {},
   "outputs": [
    {
     "data": {
      "text/plain": [
       "<bound method Series.unique of 0      {'ara': 'Arabic', 'eng': 'English', 'tir': 'Ti...\n",
       "1                    {'eng': 'English', 'smo': 'Samoan'}\n",
       "2                                  {'mkd': 'Macedonian'}\n",
       "3                     {'ara': 'Arabic', 'fra': 'French'}\n",
       "4                                      {'ara': 'Arabic'}\n",
       "                             ...                        \n",
       "189                               {'aze': 'Azerbaijani'}\n",
       "190                {'por': 'Portuguese', 'tet': 'Tetum'}\n",
       "191                           {'fas': 'Persian (Farsi)'}\n",
       "192                                  {'hrv': 'Croatian'}\n",
       "193                                    {'fra': 'French'}\n",
       "Name: languages, Length: 194, dtype: object>"
      ]
     },
     "execution_count": 11,
     "metadata": {},
     "output_type": "execute_result"
    }
   ],
   "source": [
    "data['languages'].unique"
   ]
  },
  {
   "cell_type": "code",
   "execution_count": 20,
   "metadata": {},
   "outputs": [],
   "source": [
    "url_lang = \"https://restcountries.com/v3.1/lang/English\"\n",
    "\n",
    "url_lang = url_lang.replace(\" \",\"%20\")\n",
    "\n",
    "countries_en = pd.read_json(url_lang)\n"
   ]
  },
  {
   "cell_type": "code",
   "execution_count": 21,
   "metadata": {},
   "outputs": [
    {
     "data": {
      "text/html": [
       "<div>\n",
       "<style scoped>\n",
       "    .dataframe tbody tr th:only-of-type {\n",
       "        vertical-align: middle;\n",
       "    }\n",
       "\n",
       "    .dataframe tbody tr th {\n",
       "        vertical-align: top;\n",
       "    }\n",
       "\n",
       "    .dataframe thead th {\n",
       "        text-align: right;\n",
       "    }\n",
       "</style>\n",
       "<table border=\"1\" class=\"dataframe\">\n",
       "  <thead>\n",
       "    <tr style=\"text-align: right;\">\n",
       "      <th></th>\n",
       "      <th>name</th>\n",
       "      <th>tld</th>\n",
       "      <th>cca2</th>\n",
       "      <th>ccn3</th>\n",
       "      <th>cca3</th>\n",
       "      <th>cioc</th>\n",
       "      <th>independent</th>\n",
       "      <th>status</th>\n",
       "      <th>unMember</th>\n",
       "      <th>currencies</th>\n",
       "      <th>...</th>\n",
       "      <th>gini</th>\n",
       "      <th>fifa</th>\n",
       "      <th>car</th>\n",
       "      <th>timezones</th>\n",
       "      <th>continents</th>\n",
       "      <th>flags</th>\n",
       "      <th>coatOfArms</th>\n",
       "      <th>startOfWeek</th>\n",
       "      <th>capitalInfo</th>\n",
       "      <th>postalCode</th>\n",
       "    </tr>\n",
       "  </thead>\n",
       "  <tbody>\n",
       "    <tr>\n",
       "      <th>56</th>\n",
       "      <td>{'common': 'Belize', 'official': 'Belize', 'na...</td>\n",
       "      <td>[.bz]</td>\n",
       "      <td>BZ</td>\n",
       "      <td>84</td>\n",
       "      <td>BLZ</td>\n",
       "      <td>BIZ</td>\n",
       "      <td>True</td>\n",
       "      <td>officially-assigned</td>\n",
       "      <td>True</td>\n",
       "      <td>{'BZD': {'name': 'Belize dollar', 'symbol': '$'}}</td>\n",
       "      <td>...</td>\n",
       "      <td>{'1999': 53.3}</td>\n",
       "      <td>BLZ</td>\n",
       "      <td>{'signs': ['BH'], 'side': 'right'}</td>\n",
       "      <td>[UTC-06:00]</td>\n",
       "      <td>[North America]</td>\n",
       "      <td>{'png': 'https://flagcdn.com/w320/bz.png', 'sv...</td>\n",
       "      <td>{'png': 'https://mainfacts.com/media/images/co...</td>\n",
       "      <td>monday</td>\n",
       "      <td>{'latlng': [17.25, -88.77]}</td>\n",
       "      <td>NaN</td>\n",
       "    </tr>\n",
       "    <tr>\n",
       "      <th>6</th>\n",
       "      <td>{'common': 'Cameroon', 'official': 'Republic o...</td>\n",
       "      <td>[.cm]</td>\n",
       "      <td>CM</td>\n",
       "      <td>120</td>\n",
       "      <td>CMR</td>\n",
       "      <td>CMR</td>\n",
       "      <td>True</td>\n",
       "      <td>officially-assigned</td>\n",
       "      <td>True</td>\n",
       "      <td>{'XAF': {'name': 'Central African CFA franc', ...</td>\n",
       "      <td>...</td>\n",
       "      <td>{'2014': 46.6}</td>\n",
       "      <td>CMR</td>\n",
       "      <td>{'signs': ['CAM'], 'side': 'right'}</td>\n",
       "      <td>[UTC+01:00]</td>\n",
       "      <td>[Africa]</td>\n",
       "      <td>{'png': 'https://flagcdn.com/w320/cm.png', 'sv...</td>\n",
       "      <td>{'png': 'https://mainfacts.com/media/images/co...</td>\n",
       "      <td>monday</td>\n",
       "      <td>{'latlng': [3.85, 11.5]}</td>\n",
       "      <td>NaN</td>\n",
       "    </tr>\n",
       "  </tbody>\n",
       "</table>\n",
       "<p>2 rows × 35 columns</p>\n",
       "</div>"
      ],
      "text/plain": [
       "                                                 name    tld cca2  ccn3 cca3  \\\n",
       "56  {'common': 'Belize', 'official': 'Belize', 'na...  [.bz]   BZ    84  BLZ   \n",
       "6   {'common': 'Cameroon', 'official': 'Republic o...  [.cm]   CM   120  CMR   \n",
       "\n",
       "   cioc  independent               status  unMember  \\\n",
       "56  BIZ         True  officially-assigned      True   \n",
       "6   CMR         True  officially-assigned      True   \n",
       "\n",
       "                                           currencies  ...            gini  \\\n",
       "56  {'BZD': {'name': 'Belize dollar', 'symbol': '$'}}  ...  {'1999': 53.3}   \n",
       "6   {'XAF': {'name': 'Central African CFA franc', ...  ...  {'2014': 46.6}   \n",
       "\n",
       "   fifa                                  car    timezones       continents  \\\n",
       "56  BLZ   {'signs': ['BH'], 'side': 'right'}  [UTC-06:00]  [North America]   \n",
       "6   CMR  {'signs': ['CAM'], 'side': 'right'}  [UTC+01:00]         [Africa]   \n",
       "\n",
       "                                                flags  \\\n",
       "56  {'png': 'https://flagcdn.com/w320/bz.png', 'sv...   \n",
       "6   {'png': 'https://flagcdn.com/w320/cm.png', 'sv...   \n",
       "\n",
       "                                           coatOfArms startOfWeek  \\\n",
       "56  {'png': 'https://mainfacts.com/media/images/co...      monday   \n",
       "6   {'png': 'https://mainfacts.com/media/images/co...      monday   \n",
       "\n",
       "                    capitalInfo postalCode  \n",
       "56  {'latlng': [17.25, -88.77]}        NaN  \n",
       "6      {'latlng': [3.85, 11.5]}        NaN  \n",
       "\n",
       "[2 rows x 35 columns]"
      ]
     },
     "execution_count": 21,
     "metadata": {},
     "output_type": "execute_result"
    }
   ],
   "source": [
    "countries_en.sample(2)"
   ]
  },
  {
   "cell_type": "code",
   "execution_count": 22,
   "metadata": {},
   "outputs": [
    {
     "data": {
      "text/plain": [
       "0     {'common': 'Papua New Guinea', 'official': 'In...\n",
       "1     {'common': 'Christmas Island', 'official': 'Te...\n",
       "2     {'common': 'Rwanda', 'official': 'Republic of ...\n",
       "3     {'common': 'Montserrat', 'official': 'Montserr...\n",
       "4     {'common': 'Eritrea', 'official': 'State of Er...\n",
       "                            ...                        \n",
       "86    {'common': 'Tokelau', 'official': 'Tokelau', '...\n",
       "87    {'common': 'Guernsey', 'official': 'Bailiwick ...\n",
       "88    {'common': 'Fiji', 'official': 'Republic of Fi...\n",
       "89    {'common': 'Malawi', 'official': 'Republic of ...\n",
       "90    {'common': 'Caribbean Netherlands', 'official'...\n",
       "Name: name, Length: 91, dtype: object"
      ]
     },
     "execution_count": 22,
     "metadata": {},
     "output_type": "execute_result"
    }
   ],
   "source": [
    "countries_en['name']"
   ]
  },
  {
   "cell_type": "code",
   "execution_count": 23,
   "metadata": {},
   "outputs": [
    {
     "data": {
      "text/plain": [
       "0           [Oceania]\n",
       "1              [Asia]\n",
       "2            [Africa]\n",
       "3     [North America]\n",
       "4            [Africa]\n",
       "           ...       \n",
       "86          [Oceania]\n",
       "87           [Europe]\n",
       "88          [Oceania]\n",
       "89           [Africa]\n",
       "90    [North America]\n",
       "Name: continents, Length: 91, dtype: object"
      ]
     },
     "execution_count": 23,
     "metadata": {},
     "output_type": "execute_result"
    }
   ],
   "source": [
    "countries_en['continents']"
   ]
  },
  {
   "cell_type": "code",
   "execution_count": 37,
   "metadata": {},
   "outputs": [
    {
     "name": "stdout",
     "output_type": "stream",
     "text": [
      "Papua New Guinea\n",
      "Christmas Island\n",
      "Rwanda\n",
      "Montserrat\n",
      "Eritrea\n",
      "Samoa\n",
      "Cameroon\n",
      "Sint Maarten\n",
      "Pakistan\n",
      "British Virgin Islands\n",
      "Nigeria\n",
      "Zambia\n",
      "Saint Helena, Ascension and Tristan da Cunha\n",
      "Palau\n",
      "Ireland\n",
      "Bermuda\n",
      "Tanzania\n",
      "Hong Kong\n",
      "Northern Mariana Islands\n",
      "South Georgia\n",
      "Namibia\n",
      "Solomon Islands\n",
      "Ghana\n",
      "South Sudan\n",
      "American Samoa\n",
      "Nauru\n",
      "Mauritius\n",
      "Grenada\n",
      "Turks and Caicos Islands\n",
      "Seychelles\n",
      "Niue\n",
      "Barbados\n",
      "Curaçao\n",
      "Cayman Islands\n",
      "Guyana\n",
      "British Indian Ocean Territory\n",
      "Kenya\n",
      "Saint Lucia\n",
      "Tuvalu\n",
      "United Kingdom\n",
      "Heard Island and McDonald Islands\n",
      "Norfolk Island\n",
      "United States Minor Outlying Islands\n",
      "Liberia\n",
      "Zimbabwe\n",
      "South Africa\n",
      "Malta\n",
      "Saint Kitts and Nevis\n",
      "Lesotho\n",
      "Kiribati\n",
      "Guam\n",
      "Tonga\n",
      "Australia\n",
      "United States Virgin Islands\n",
      "Saint Vincent and the Grenadines\n",
      "Jersey\n",
      "Belize\n",
      "New Zealand\n",
      "Marshall Islands\n",
      "Gambia\n",
      "Sierra Leone\n",
      "Vanuatu\n",
      "Isle of Man\n",
      "United States\n",
      "Sudan\n",
      "Falkland Islands\n",
      "India\n",
      "Botswana\n",
      "Cocos (Keeling) Islands\n",
      "Philippines\n",
      "Dominica\n",
      "Antigua and Barbuda\n",
      "Jamaica\n",
      "Canada\n",
      "Bahamas\n",
      "Trinidad and Tobago\n",
      "Puerto Rico\n",
      "Singapore\n",
      "Gibraltar\n",
      "Micronesia\n",
      "Pitcairn Islands\n",
      "Malaysia\n",
      "Anguilla\n",
      "Cook Islands\n",
      "Eswatini\n",
      "Uganda\n",
      "Tokelau\n",
      "Guernsey\n",
      "Fiji\n",
      "Malawi\n",
      "Caribbean Netherlands\n"
     ]
    }
   ],
   "source": [
    "for country in countries_en['name']:\n",
    "    name = country['common']\n",
    "    print(name)"
   ]
  },
  {
   "cell_type": "code",
   "execution_count": 35,
   "metadata": {},
   "outputs": [],
   "source": [
    "def language_which_countries(language):\n",
    "\n",
    "    url_lang = \"https://restcountries.com/v3.1/lang/\"+language\n",
    "\n",
    "    url_lang = url_lang.replace(\" \",\"%20\")\n",
    "\n",
    "    countries_lang = pd.read_json(url_lang)\n",
    "\n",
    "    name =[]\n",
    "    for country in countries_lang['name']:\n",
    "        name.append(country['common'])\n",
    "\n",
    "    return name"
   ]
  },
  {
   "cell_type": "code",
   "execution_count": 36,
   "metadata": {},
   "outputs": [
    {
     "data": {
      "text/plain": [
       "['Venezuela',\n",
       " 'Spain',\n",
       " 'Chile',\n",
       " 'Argentina',\n",
       " 'Guam',\n",
       " 'Mexico',\n",
       " 'Nicaragua',\n",
       " 'El Salvador',\n",
       " 'Puerto Rico',\n",
       " 'Dominican Republic',\n",
       " 'Panama',\n",
       " 'Belize',\n",
       " 'Honduras',\n",
       " 'Costa Rica',\n",
       " 'Western Sahara',\n",
       " 'Colombia',\n",
       " 'Guatemala',\n",
       " 'Paraguay',\n",
       " 'Peru',\n",
       " 'Bolivia',\n",
       " 'Ecuador',\n",
       " 'Equatorial Guinea',\n",
       " 'Uruguay',\n",
       " 'Cuba']"
      ]
     },
     "execution_count": 36,
     "metadata": {},
     "output_type": "execute_result"
    }
   ],
   "source": [
    "result = []\n",
    "result = language_which_countries(\"spanish\")\n",
    "result"
   ]
  },
  {
   "cell_type": "code",
   "execution_count": 51,
   "metadata": {},
   "outputs": [],
   "source": [
    "url= \"https://restcountries.com/v3.1/all\"\n",
    "\n",
    "url = url.replace(\" \",\"%20\")\n",
    "\n",
    "datas = pd.read_json(url)"
   ]
  },
  {
   "cell_type": "code",
   "execution_count": 61,
   "metadata": {},
   "outputs": [
    {
     "data": {
      "text/plain": [
       "Index(['name', 'tld', 'cca2', 'ccn3', 'cca3', 'independent', 'status',\n",
       "       'unMember', 'currencies', 'idd', 'capital', 'altSpellings', 'region',\n",
       "       'subregion', 'languages', 'translations', 'latlng', 'landlocked',\n",
       "       'area', 'demonyms', 'flag', 'maps', 'population', 'car', 'timezones',\n",
       "       'continents', 'flags', 'coatOfArms', 'startOfWeek', 'capitalInfo',\n",
       "       'postalCode', 'cioc', 'borders', 'fifa', 'gini'],\n",
       "      dtype='object')"
      ]
     },
     "execution_count": 61,
     "metadata": {},
     "output_type": "execute_result"
    }
   ],
   "source": [
    "datas.columns"
   ]
  },
  {
   "cell_type": "code",
   "execution_count": 64,
   "metadata": {},
   "outputs": [
    {
     "data": {
      "text/html": [
       "<div>\n",
       "<style scoped>\n",
       "    .dataframe tbody tr th:only-of-type {\n",
       "        vertical-align: middle;\n",
       "    }\n",
       "\n",
       "    .dataframe tbody tr th {\n",
       "        vertical-align: top;\n",
       "    }\n",
       "\n",
       "    .dataframe thead th {\n",
       "        text-align: right;\n",
       "    }\n",
       "</style>\n",
       "<table border=\"1\" class=\"dataframe\">\n",
       "  <thead>\n",
       "    <tr style=\"text-align: right;\">\n",
       "      <th></th>\n",
       "      <th>name</th>\n",
       "      <th>tld</th>\n",
       "      <th>cca2</th>\n",
       "      <th>ccn3</th>\n",
       "      <th>cca3</th>\n",
       "      <th>independent</th>\n",
       "      <th>status</th>\n",
       "      <th>unMember</th>\n",
       "      <th>currencies</th>\n",
       "      <th>idd</th>\n",
       "      <th>...</th>\n",
       "      <th>continents</th>\n",
       "      <th>flags</th>\n",
       "      <th>coatOfArms</th>\n",
       "      <th>startOfWeek</th>\n",
       "      <th>capitalInfo</th>\n",
       "      <th>postalCode</th>\n",
       "      <th>cioc</th>\n",
       "      <th>borders</th>\n",
       "      <th>fifa</th>\n",
       "      <th>gini</th>\n",
       "    </tr>\n",
       "  </thead>\n",
       "  <tbody>\n",
       "    <tr>\n",
       "      <th>86</th>\n",
       "      <td>{'common': 'Turkey', 'official': 'Republic of ...</td>\n",
       "      <td>[.tr]</td>\n",
       "      <td>TR</td>\n",
       "      <td>792.0</td>\n",
       "      <td>TUR</td>\n",
       "      <td>1.0</td>\n",
       "      <td>officially-assigned</td>\n",
       "      <td>True</td>\n",
       "      <td>{'TRY': {'name': 'Turkish lira', 'symbol': '₺'}}</td>\n",
       "      <td>{'root': '+9', 'suffixes': ['0']}</td>\n",
       "      <td>...</td>\n",
       "      <td>[Europe, Asia]</td>\n",
       "      <td>{'png': 'https://flagcdn.com/w320/tr.png', 'sv...</td>\n",
       "      <td>{'png': 'https://mainfacts.com/media/images/co...</td>\n",
       "      <td>monday</td>\n",
       "      <td>{'latlng': [39.93, 32.87]}</td>\n",
       "      <td>{'format': '#####', 'regex': '^(\\d{5})$'}</td>\n",
       "      <td>TUR</td>\n",
       "      <td>[ARM, AZE, BGR, GEO, GRC, IRN, IRQ, SYR]</td>\n",
       "      <td>TUR</td>\n",
       "      <td>{'2019': 41.9}</td>\n",
       "    </tr>\n",
       "  </tbody>\n",
       "</table>\n",
       "<p>1 rows × 35 columns</p>\n",
       "</div>"
      ],
      "text/plain": [
       "                                                 name    tld cca2   ccn3 cca3  \\\n",
       "86  {'common': 'Turkey', 'official': 'Republic of ...  [.tr]   TR  792.0  TUR   \n",
       "\n",
       "    independent               status  unMember  \\\n",
       "86          1.0  officially-assigned      True   \n",
       "\n",
       "                                          currencies  \\\n",
       "86  {'TRY': {'name': 'Turkish lira', 'symbol': '₺'}}   \n",
       "\n",
       "                                  idd  ...      continents  \\\n",
       "86  {'root': '+9', 'suffixes': ['0']}  ...  [Europe, Asia]   \n",
       "\n",
       "                                                flags  \\\n",
       "86  {'png': 'https://flagcdn.com/w320/tr.png', 'sv...   \n",
       "\n",
       "                                           coatOfArms startOfWeek  \\\n",
       "86  {'png': 'https://mainfacts.com/media/images/co...      monday   \n",
       "\n",
       "                   capitalInfo                                 postalCode  \\\n",
       "86  {'latlng': [39.93, 32.87]}  {'format': '#####', 'regex': '^(\\d{5})$'}   \n",
       "\n",
       "   cioc                                   borders  fifa            gini  \n",
       "86  TUR  [ARM, AZE, BGR, GEO, GRC, IRN, IRQ, SYR]   TUR  {'2019': 41.9}  \n",
       "\n",
       "[1 rows x 35 columns]"
      ]
     },
     "execution_count": 64,
     "metadata": {},
     "output_type": "execute_result"
    }
   ],
   "source": [
    "turkey_rows = datas[datas['name'].apply(lambda x: 'common' in x and x['common'] == 'Turkey')]\n",
    "turkey_rows"
   ]
  },
  {
   "cell_type": "code",
   "execution_count": 65,
   "metadata": {},
   "outputs": [
    {
     "data": {
      "text/plain": [
       "Index(['name', 'tld', 'cca2', 'ccn3', 'cca3', 'independent', 'status',\n",
       "       'unMember', 'currencies', 'idd', 'capital', 'altSpellings', 'region',\n",
       "       'subregion', 'languages', 'translations', 'latlng', 'landlocked',\n",
       "       'area', 'demonyms', 'flag', 'maps', 'population', 'car', 'timezones',\n",
       "       'continents', 'flags', 'coatOfArms', 'startOfWeek', 'capitalInfo',\n",
       "       'postalCode', 'cioc', 'borders', 'fifa', 'gini'],\n",
       "      dtype='object')"
      ]
     },
     "execution_count": 65,
     "metadata": {},
     "output_type": "execute_result"
    }
   ],
   "source": [
    "turkey_rows.columns"
   ]
  },
  {
   "cell_type": "code",
   "execution_count": 75,
   "metadata": {},
   "outputs": [
    {
     "name": "stdout",
     "output_type": "stream",
     "text": [
      "86    Asia\n",
      "Name: region, dtype: object\n",
      "86    Western Asia\n",
      "Name: subregion, dtype: object\n",
      "86    [Ankara]\n",
      "Name: capital, dtype: object\n",
      "86    {'eng': {'f': 'Turkish', 'm': 'Turkish'}, 'fra...\n",
      "Name: demonyms, dtype: object\n",
      "86    [39.0, 35.0]\n",
      "Name: latlng, dtype: object\n",
      "86    783562.0\n",
      "Name: area, dtype: float64\n",
      "86    [ARM, AZE, BGR, GEO, GRC, IRN, IRQ, SYR]\n",
      "Name: borders, dtype: object\n",
      "86    {'googleMaps': 'https://goo.gl/maps/dXFFraiUDf...\n",
      "Name: maps, dtype: object\n"
     ]
    }
   ],
   "source": [
    "region = turkey_rows['region']\n",
    "subregion = turkey_rows['subregion']\n",
    "capital = turkey_rows['capital']\n",
    "demonym = turkey_rows['demonyms']\n",
    "Lat_Lng = turkey_rows['latlng']\n",
    "area    = turkey_rows['area']\n",
    "land_borders    = turkey_rows['borders']\n",
    "maps    = turkey_rows['maps']\n",
    "print(region)\n",
    "print(subregion)\n",
    "print(capital)\n",
    "print(demonym)\n",
    "print(Lat_Lng)\n",
    "print(area)\n",
    "print(land_borders)\n",
    "print(maps)"
   ]
  },
  {
   "cell_type": "code",
   "execution_count": 78,
   "metadata": {},
   "outputs": [
    {
     "name": "stdout",
     "output_type": "stream",
     "text": [
      "Asia\n"
     ]
    }
   ],
   "source": [
    "print(turkey_rows['region'].iloc[0])"
   ]
  },
  {
   "cell_type": "code",
   "execution_count": 79,
   "metadata": {},
   "outputs": [],
   "source": [
    "def get_geography(country_name):\n",
    "\n",
    "\n",
    "    url= \"https://restcountries.com/v3.1/all\"\n",
    "\n",
    "    url = url.replace(\" \",\"%20\")\n",
    "\n",
    "    datas = pd.read_json(url)\n",
    "    \n",
    "    geography ={}\n",
    "\n",
    "    country_row = datas[datas['name'].apply(lambda x: 'common' in x and x['common'] == country_name)]\n",
    "                                            \n",
    "    region = country_row['region'].iloc[0]\n",
    "    subregion = country_row['subregion'].iloc[0]\n",
    "    capital = country_row['capital'].iloc[0]\n",
    "    demonym = country_row['demonyms'].iloc[0]\n",
    "    Lat_Lng = country_row['latlng'].iloc[0]\n",
    "    area    = country_row['area'].iloc[0]\n",
    "    land_borders    = country_row['borders'].iloc[0]\n",
    "    maps    = country_row['maps'].iloc[0]\n",
    "\n",
    "    geography['region'] = region\n",
    "    geography['subregion'] = subregion\n",
    "    geography['capital'] = capital\n",
    "    geography['demonym'] = demonym\n",
    "    geography['Lat_Lng'] = Lat_Lng\n",
    "    geography['area'] = area\n",
    "    geography['land_borders'] = land_borders\n",
    "    geography['maps'] = maps\n",
    "    \n",
    "\n",
    "    return geography"
   ]
  },
  {
   "cell_type": "code",
   "execution_count": 80,
   "metadata": {},
   "outputs": [
    {
     "data": {
      "text/plain": [
       "{'region': 'Europe',\n",
       " 'subregion': 'Southern Europe',\n",
       " 'capital': ['Madrid'],\n",
       " 'demonym': {'eng': {'f': 'Spanish', 'm': 'Spanish'},\n",
       "  'fra': {'f': 'Espagnole', 'm': 'Espagnol'}},\n",
       " 'Lat_Lng': [40.0, -4.0],\n",
       " 'area': 505992.0,\n",
       " 'land_borders': ['AND', 'FRA', 'GIB', 'PRT', 'MAR'],\n",
       " 'maps': {'googleMaps': 'https://goo.gl/maps/138JaXW8EZzRVitY9',\n",
       "  'openStreetMaps': 'https://www.openstreetmap.org/relation/1311341'}}"
      ]
     },
     "execution_count": 80,
     "metadata": {},
     "output_type": "execute_result"
    }
   ],
   "source": [
    "spain_row = {}\n",
    "spain_row = get_geography(\"Spain\")\n",
    "spain_row"
   ]
  }
 ],
 "metadata": {
  "kernelspec": {
   "display_name": "Python 3",
   "language": "python",
   "name": "python3"
  },
  "language_info": {
   "codemirror_mode": {
    "name": "ipython",
    "version": 3
   },
   "file_extension": ".py",
   "mimetype": "text/x-python",
   "name": "python",
   "nbconvert_exporter": "python",
   "pygments_lexer": "ipython3",
   "version": "3.10.0rc2"
  }
 },
 "nbformat": 4,
 "nbformat_minor": 2
}
